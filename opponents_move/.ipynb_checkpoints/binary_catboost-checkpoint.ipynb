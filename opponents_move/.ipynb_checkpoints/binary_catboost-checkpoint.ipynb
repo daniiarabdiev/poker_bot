{
 "cells": [
  {
   "cell_type": "code",
   "execution_count": 29,
   "metadata": {},
   "outputs": [],
   "source": [
    "import pandas as pd\n",
    "from pandas_profiling import ProfileReport\n",
    "from sklearn.model_selection import train_test_split\n",
    "from catboost import Pool\n",
    "import numpy as np\n"
   ]
  },
  {
   "cell_type": "code",
   "execution_count": 32,
   "metadata": {},
   "outputs": [],
   "source": [
    "raw_data_actions = pd.read_csv('../opponents_move/data/users_hands_all_states_df.csv')"
   ]
  },
  {
   "cell_type": "markdown",
   "metadata": {},
   "source": [
    "Columns to drop"
   ]
  },
  {
   "cell_type": "code",
   "execution_count": 39,
   "metadata": {},
   "outputs": [
    {
     "name": "stdout",
     "output_type": "stream",
     "text": [
      "unique_id\n",
      "user_step_num\n",
      "hand_id\n",
      "user_id\n",
      "user_seat_num\n",
      "flop11\n",
      "flop12\n",
      "flop21\n",
      "flop22\n",
      "flop31\n",
      "flop32\n",
      "turn11\n",
      "turn12\n",
      "river11\n",
      "river12\n",
      "stage\n",
      "type2\n",
      "type3\n",
      "table_id\n",
      "button_id\n",
      "money_i_have\n",
      "bank_before\n",
      "pre-flop_player_1_action_type_1\n",
      "pre-flop_player_1_action_sum_1\n",
      "pre-flop_player_1_money_had_1\n",
      "pre-flop_player_1_action_type_2\n",
      "pre-flop_player_1_action_sum_2\n",
      "pre-flop_player_1_money_had_2\n",
      "flop_player_1_action_type_1\n",
      "flop_player_1_action_sum_1\n",
      "flop_player_1_money_had_1\n",
      "flop_player_1_action_type_2\n",
      "flop_player_1_action_sum_2\n",
      "flop_player_1_money_had_2\n",
      "turn_player_1_action_type_1\n",
      "turn_player_1_action_sum_1\n",
      "turn_player_1_money_had_1\n",
      "turn_player_1_action_type_2\n",
      "turn_player_1_action_sum_2\n",
      "turn_player_1_money_had_2\n",
      "river_player_1_action_type_1\n",
      "river_player_1_action_sum_1\n",
      "river_player_1_money_had_1\n",
      "river_player_1_action_type_2\n",
      "river_player_1_action_sum_2\n",
      "river_player_1_money_had_2\n",
      "pre-flop_player_2_action_type_1\n",
      "pre-flop_player_2_action_sum_1\n",
      "pre-flop_player_2_money_had_1\n",
      "pre-flop_player_2_action_type_2\n",
      "pre-flop_player_2_action_sum_2\n",
      "pre-flop_player_2_money_had_2\n",
      "flop_player_2_action_type_1\n",
      "flop_player_2_action_sum_1\n",
      "flop_player_2_money_had_1\n",
      "flop_player_2_action_type_2\n",
      "flop_player_2_action_sum_2\n",
      "flop_player_2_money_had_2\n",
      "turn_player_2_action_type_1\n",
      "turn_player_2_action_sum_1\n",
      "turn_player_2_money_had_1\n",
      "turn_player_2_action_type_2\n",
      "turn_player_2_action_sum_2\n",
      "turn_player_2_money_had_2\n",
      "river_player_2_action_type_1\n",
      "river_player_2_action_sum_1\n",
      "river_player_2_money_had_1\n",
      "river_player_2_action_type_2\n",
      "river_player_2_action_sum_2\n",
      "river_player_2_money_had_2\n",
      "pre-flop_player_3_action_type_1\n",
      "pre-flop_player_3_action_sum_1\n",
      "pre-flop_player_3_money_had_1\n",
      "pre-flop_player_3_action_type_2\n",
      "pre-flop_player_3_action_sum_2\n",
      "pre-flop_player_3_money_had_2\n",
      "flop_player_3_action_type_1\n",
      "flop_player_3_action_sum_1\n",
      "flop_player_3_money_had_1\n",
      "flop_player_3_action_type_2\n",
      "flop_player_3_action_sum_2\n",
      "flop_player_3_money_had_2\n",
      "turn_player_3_action_type_1\n",
      "turn_player_3_action_sum_1\n",
      "turn_player_3_money_had_1\n",
      "turn_player_3_action_type_2\n",
      "turn_player_3_action_sum_2\n",
      "turn_player_3_money_had_2\n",
      "river_player_3_action_type_1\n",
      "river_player_3_action_sum_1\n",
      "river_player_3_money_had_1\n",
      "river_player_3_action_type_2\n",
      "river_player_3_action_sum_2\n",
      "river_player_3_money_had_2\n",
      "pre-flop_player_4_action_type_1\n",
      "pre-flop_player_4_action_sum_1\n",
      "pre-flop_player_4_money_had_1\n",
      "pre-flop_player_4_action_type_2\n",
      "pre-flop_player_4_action_sum_2\n",
      "pre-flop_player_4_money_had_2\n",
      "flop_player_4_action_type_1\n",
      "flop_player_4_action_sum_1\n",
      "flop_player_4_money_had_1\n",
      "flop_player_4_action_type_2\n",
      "flop_player_4_action_sum_2\n",
      "flop_player_4_money_had_2\n",
      "turn_player_4_action_type_1\n",
      "turn_player_4_action_sum_1\n",
      "turn_player_4_money_had_1\n",
      "turn_player_4_action_type_2\n",
      "turn_player_4_action_sum_2\n",
      "turn_player_4_money_had_2\n",
      "river_player_4_action_type_1\n",
      "river_player_4_action_sum_1\n",
      "river_player_4_money_had_1\n",
      "river_player_4_action_type_2\n",
      "river_player_4_action_sum_2\n",
      "river_player_4_money_had_2\n",
      "pre-flop_player_5_action_type_1\n",
      "pre-flop_player_5_action_sum_1\n",
      "pre-flop_player_5_money_had_1\n",
      "pre-flop_player_5_action_type_2\n",
      "pre-flop_player_5_action_sum_2\n",
      "pre-flop_player_5_money_had_2\n",
      "flop_player_5_action_type_1\n",
      "flop_player_5_action_sum_1\n",
      "flop_player_5_money_had_1\n",
      "flop_player_5_action_type_2\n",
      "flop_player_5_action_sum_2\n",
      "flop_player_5_money_had_2\n",
      "turn_player_5_action_type_1\n",
      "turn_player_5_action_sum_1\n",
      "turn_player_5_money_had_1\n",
      "turn_player_5_action_type_2\n",
      "turn_player_5_action_sum_2\n",
      "turn_player_5_money_had_2\n",
      "river_player_5_action_type_1\n",
      "river_player_5_action_sum_1\n",
      "river_player_5_money_had_1\n",
      "river_player_5_action_type_2\n",
      "river_player_5_action_sum_2\n",
      "river_player_5_money_had_2\n",
      "pre-flop_player_6_action_type_1\n",
      "pre-flop_player_6_action_sum_1\n",
      "pre-flop_player_6_money_had_1\n",
      "pre-flop_player_6_action_type_2\n",
      "pre-flop_player_6_action_sum_2\n",
      "pre-flop_player_6_money_had_2\n",
      "flop_player_6_action_type_1\n",
      "flop_player_6_action_sum_1\n",
      "flop_player_6_money_had_1\n",
      "flop_player_6_action_type_2\n",
      "flop_player_6_action_sum_2\n",
      "flop_player_6_money_had_2\n",
      "turn_player_6_action_type_1\n",
      "turn_player_6_action_sum_1\n",
      "turn_player_6_money_had_1\n",
      "turn_player_6_action_type_2\n",
      "turn_player_6_action_sum_2\n",
      "turn_player_6_money_had_2\n",
      "river_player_6_action_type_1\n",
      "river_player_6_action_sum_1\n",
      "river_player_6_money_had_1\n",
      "river_player_6_action_type_2\n",
      "river_player_6_action_sum_2\n",
      "river_player_6_money_had_2\n",
      "user_action_type\n",
      "user_action_sum\n",
      "user_result\n"
     ]
    }
   ],
   "source": [
    "for col in raw_data_actions.columns:\n",
    "    if len(set(raw_data_actions[col])) == 1:\n",
    "        raw_data_actions.drop(col, axis=1, inplace=True)\n",
    "    else:\n",
    "        print(col)"
   ]
  },
  {
   "cell_type": "code",
   "execution_count": 40,
   "metadata": {},
   "outputs": [],
   "source": [
    "columns_to_drop = ['unique_id', 'hand_id', 'user_id', 'user_action_sum', 'user_result']"
   ]
  },
  {
   "cell_type": "code",
   "execution_count": 41,
   "metadata": {},
   "outputs": [],
   "source": [
    "raw_data_actions.drop(columns_to_drop, axis=1, inplace=True)"
   ]
  },
  {
   "cell_type": "code",
   "execution_count": 42,
   "metadata": {},
   "outputs": [
    {
     "name": "stdout",
     "output_type": "stream",
     "text": [
      "user_step_num\n",
      "user_seat_num\n",
      "flop11\n",
      "flop12\n",
      "flop21\n",
      "flop22\n",
      "flop31\n",
      "flop32\n",
      "turn11\n",
      "turn12\n",
      "river11\n",
      "river12\n",
      "stage\n",
      "type2\n",
      "type3\n",
      "table_id\n",
      "button_id\n",
      "money_i_have\n",
      "bank_before\n",
      "pre-flop_player_1_action_type_1\n",
      "pre-flop_player_1_action_sum_1\n",
      "pre-flop_player_1_money_had_1\n",
      "pre-flop_player_1_action_type_2\n",
      "pre-flop_player_1_action_sum_2\n",
      "pre-flop_player_1_money_had_2\n",
      "flop_player_1_action_type_1\n",
      "flop_player_1_action_sum_1\n",
      "flop_player_1_money_had_1\n",
      "flop_player_1_action_type_2\n",
      "flop_player_1_action_sum_2\n",
      "flop_player_1_money_had_2\n",
      "turn_player_1_action_type_1\n",
      "turn_player_1_action_sum_1\n",
      "turn_player_1_money_had_1\n",
      "turn_player_1_action_type_2\n",
      "turn_player_1_action_sum_2\n",
      "turn_player_1_money_had_2\n",
      "river_player_1_action_type_1\n",
      "river_player_1_action_sum_1\n",
      "river_player_1_money_had_1\n",
      "river_player_1_action_type_2\n",
      "river_player_1_action_sum_2\n",
      "river_player_1_money_had_2\n",
      "pre-flop_player_2_action_type_1\n",
      "pre-flop_player_2_action_sum_1\n",
      "pre-flop_player_2_money_had_1\n",
      "pre-flop_player_2_action_type_2\n",
      "pre-flop_player_2_action_sum_2\n",
      "pre-flop_player_2_money_had_2\n",
      "flop_player_2_action_type_1\n",
      "flop_player_2_action_sum_1\n",
      "flop_player_2_money_had_1\n",
      "flop_player_2_action_type_2\n",
      "flop_player_2_action_sum_2\n",
      "flop_player_2_money_had_2\n",
      "turn_player_2_action_type_1\n",
      "turn_player_2_action_sum_1\n",
      "turn_player_2_money_had_1\n",
      "turn_player_2_action_type_2\n",
      "turn_player_2_action_sum_2\n",
      "turn_player_2_money_had_2\n",
      "river_player_2_action_type_1\n",
      "river_player_2_action_sum_1\n",
      "river_player_2_money_had_1\n",
      "river_player_2_action_type_2\n",
      "river_player_2_action_sum_2\n",
      "river_player_2_money_had_2\n",
      "pre-flop_player_3_action_type_1\n",
      "pre-flop_player_3_action_sum_1\n",
      "pre-flop_player_3_money_had_1\n",
      "pre-flop_player_3_action_type_2\n",
      "pre-flop_player_3_action_sum_2\n",
      "pre-flop_player_3_money_had_2\n",
      "flop_player_3_action_type_1\n",
      "flop_player_3_action_sum_1\n",
      "flop_player_3_money_had_1\n",
      "flop_player_3_action_type_2\n",
      "flop_player_3_action_sum_2\n",
      "flop_player_3_money_had_2\n",
      "turn_player_3_action_type_1\n",
      "turn_player_3_action_sum_1\n",
      "turn_player_3_money_had_1\n",
      "turn_player_3_action_type_2\n",
      "turn_player_3_action_sum_2\n",
      "turn_player_3_money_had_2\n",
      "river_player_3_action_type_1\n",
      "river_player_3_action_sum_1\n",
      "river_player_3_money_had_1\n",
      "river_player_3_action_type_2\n",
      "river_player_3_action_sum_2\n",
      "river_player_3_money_had_2\n",
      "pre-flop_player_4_action_type_1\n",
      "pre-flop_player_4_action_sum_1\n",
      "pre-flop_player_4_money_had_1\n",
      "pre-flop_player_4_action_type_2\n",
      "pre-flop_player_4_action_sum_2\n",
      "pre-flop_player_4_money_had_2\n",
      "flop_player_4_action_type_1\n",
      "flop_player_4_action_sum_1\n",
      "flop_player_4_money_had_1\n",
      "flop_player_4_action_type_2\n",
      "flop_player_4_action_sum_2\n",
      "flop_player_4_money_had_2\n",
      "turn_player_4_action_type_1\n",
      "turn_player_4_action_sum_1\n",
      "turn_player_4_money_had_1\n",
      "turn_player_4_action_type_2\n",
      "turn_player_4_action_sum_2\n",
      "turn_player_4_money_had_2\n",
      "river_player_4_action_type_1\n",
      "river_player_4_action_sum_1\n",
      "river_player_4_money_had_1\n",
      "river_player_4_action_type_2\n",
      "river_player_4_action_sum_2\n",
      "river_player_4_money_had_2\n",
      "pre-flop_player_5_action_type_1\n",
      "pre-flop_player_5_action_sum_1\n",
      "pre-flop_player_5_money_had_1\n",
      "pre-flop_player_5_action_type_2\n",
      "pre-flop_player_5_action_sum_2\n",
      "pre-flop_player_5_money_had_2\n",
      "flop_player_5_action_type_1\n",
      "flop_player_5_action_sum_1\n",
      "flop_player_5_money_had_1\n",
      "flop_player_5_action_type_2\n",
      "flop_player_5_action_sum_2\n",
      "flop_player_5_money_had_2\n",
      "turn_player_5_action_type_1\n",
      "turn_player_5_action_sum_1\n",
      "turn_player_5_money_had_1\n",
      "turn_player_5_action_type_2\n",
      "turn_player_5_action_sum_2\n",
      "turn_player_5_money_had_2\n",
      "river_player_5_action_type_1\n",
      "river_player_5_action_sum_1\n",
      "river_player_5_money_had_1\n",
      "river_player_5_action_type_2\n",
      "river_player_5_action_sum_2\n",
      "river_player_5_money_had_2\n",
      "pre-flop_player_6_action_type_1\n",
      "pre-flop_player_6_action_sum_1\n",
      "pre-flop_player_6_money_had_1\n",
      "pre-flop_player_6_action_type_2\n",
      "pre-flop_player_6_action_sum_2\n",
      "pre-flop_player_6_money_had_2\n",
      "flop_player_6_action_type_1\n",
      "flop_player_6_action_sum_1\n",
      "flop_player_6_money_had_1\n",
      "flop_player_6_action_type_2\n",
      "flop_player_6_action_sum_2\n",
      "flop_player_6_money_had_2\n",
      "turn_player_6_action_type_1\n",
      "turn_player_6_action_sum_1\n",
      "turn_player_6_money_had_1\n",
      "turn_player_6_action_type_2\n",
      "turn_player_6_action_sum_2\n",
      "turn_player_6_money_had_2\n",
      "river_player_6_action_type_1\n",
      "river_player_6_action_sum_1\n",
      "river_player_6_money_had_1\n",
      "river_player_6_action_type_2\n",
      "river_player_6_action_sum_2\n",
      "river_player_6_money_had_2\n",
      "user_action_type\n"
     ]
    }
   ],
   "source": [
    "for col in raw_data_actions.columns:\n",
    "    print(col)"
   ]
  },
  {
   "cell_type": "markdown",
   "metadata": {},
   "source": [
    "Definining target variable"
   ]
  },
  {
   "cell_type": "code",
   "execution_count": 43,
   "metadata": {},
   "outputs": [],
   "source": [
    "raw_data_actions = raw_data_actions.loc[raw_data_actions['user_action_type'].isin(['raises', 'bets', 'folds', 'checks', 'calls'])].copy()"
   ]
  },
  {
   "cell_type": "code",
   "execution_count": 44,
   "metadata": {},
   "outputs": [
    {
     "data": {
      "text/plain": [
       "array(['folds', 'calls', 'raises', 'bets', 'checks'], dtype=object)"
      ]
     },
     "execution_count": 44,
     "metadata": {},
     "output_type": "execute_result"
    }
   ],
   "source": [
    "raw_data_actions['user_action_type'].unique()"
   ]
  },
  {
   "cell_type": "code",
   "execution_count": 45,
   "metadata": {},
   "outputs": [],
   "source": [
    "raw_data_actions['game_continue'] = raw_data_actions['user_action_type'].apply(lambda x: 1 if x in ['raises', 'bets', 'checks', 'calls'] else 0)"
   ]
  },
  {
   "cell_type": "code",
   "execution_count": 46,
   "metadata": {},
   "outputs": [],
   "source": [
    "raw_data_actions.drop('user_action_type', axis=1, inplace=True)"
   ]
  },
  {
   "cell_type": "code",
   "execution_count": null,
   "metadata": {},
   "outputs": [],
   "source": []
  },
  {
   "cell_type": "markdown",
   "metadata": {},
   "source": [
    "Preparing for Modeling without embeddings"
   ]
  },
  {
   "cell_type": "code",
   "execution_count": 48,
   "metadata": {},
   "outputs": [
    {
     "name": "stdout",
     "output_type": "stream",
     "text": [
      "Labels are {0, 1}\n",
      "Number of 1s in a dataset: 41699, Number of 0s in a dataset: 36417\n",
      "Ratio of 1 to total is 0.5338086947616365\n"
     ]
    }
   ],
   "source": [
    "print(f'Labels are {set(raw_data_actions[\"game_continue\"])}')\n",
    "ones = raw_data_actions.loc[raw_data_actions['game_continue']==1].shape[0]\n",
    "zeros = raw_data_actions.loc[raw_data_actions['game_continue']==0].shape[0]\n",
    "print(f'Number of 1s in a dataset: {ones}, Number of 0s in a dataset: {zeros}')\n",
    "print(f'Ratio of 1 to total is {ones/(ones+zeros)}')"
   ]
  },
  {
   "cell_type": "markdown",
   "metadata": {},
   "source": [
    "Deal with missing"
   ]
  },
  {
   "cell_type": "code",
   "execution_count": 49,
   "metadata": {},
   "outputs": [
    {
     "name": "stdout",
     "output_type": "stream",
     "text": [
      "flop11 50240\n",
      "flop12 50240\n",
      "flop21 50240\n",
      "flop22 50240\n",
      "flop31 50240\n",
      "flop32 50240\n",
      "turn11 64934\n",
      "turn12 64934\n",
      "river11 73120\n",
      "river12 73120\n",
      "pre-flop_player_2_action_type_1 2\n",
      "pre-flop_player_3_action_type_1 16\n",
      "pre-flop_player_4_action_type_1 174\n",
      "pre-flop_player_4_action_type_2 6\n",
      "flop_player_4_action_type_1 31\n",
      "flop_player_4_action_type_2 5\n",
      "turn_player_4_action_type_1 16\n",
      "turn_player_4_action_type_2 5\n",
      "river_player_4_action_type_1 1\n"
     ]
    }
   ],
   "source": [
    "for col in raw_data_actions.columns:\n",
    "    a = raw_data_actions[col].isna().sum()\n",
    "    if a > 0:\n",
    "        print(col, a)\n",
    "        raw_data_actions[col].fillna('unknown', inplace=True)"
   ]
  },
  {
   "cell_type": "code",
   "execution_count": 50,
   "metadata": {},
   "outputs": [],
   "source": [
    "number_of_missing = raw_data_actions.isna().sum()"
   ]
  },
  {
   "cell_type": "code",
   "execution_count": 51,
   "metadata": {},
   "outputs": [
    {
     "data": {
      "text/plain": [
       "0"
      ]
     },
     "execution_count": 51,
     "metadata": {},
     "output_type": "execute_result"
    }
   ],
   "source": [
    "number_of_missing.sum()"
   ]
  },
  {
   "cell_type": "code",
   "execution_count": 52,
   "metadata": {},
   "outputs": [],
   "source": [
    "def func(x):\n",
    "    if float(x) == 0.01:\n",
    "        return 'one'\n",
    "    elif float(x) == 0.02:\n",
    "        return 'two'\n",
    "    elif float(x) == 0.05:\n",
    "        return 'five'\n",
    "    elif float(x) == 0.25:\n",
    "        return 'twentyfive'\n",
    "    elif float(x) == 0.5:\n",
    "        return 'fivety'\n",
    "    elif float(x) == 1.0:\n",
    "        return 'hundred'\n",
    "    elif float(x) == 3.0:\n",
    "        return '3hundred'\n",
    "    elif float(x) == 0.1:\n",
    "        return 'zeroone'\n",
    "    elif float(x) == 2.0:\n",
    "        return 'twozero'\n",
    "    elif float(x) == 6.0:\n",
    "        return 'sixzero'"
   ]
  },
  {
   "cell_type": "code",
   "execution_count": 53,
   "metadata": {},
   "outputs": [],
   "source": [
    "raw_data_actions['type2'] = raw_data_actions['type2'].apply(func)\n",
    "raw_data_actions['type3'] = raw_data_actions['type3'].apply(func)"
   ]
  },
  {
   "cell_type": "markdown",
   "metadata": {},
   "source": [
    "Modeling without embeddings"
   ]
  },
  {
   "cell_type": "code",
   "execution_count": 54,
   "metadata": {},
   "outputs": [],
   "source": [
    "from sklearn.metrics import accuracy_score, classification_report, confusion_matrix, roc_auc_score\n",
    "from sklearn.model_selection import StratifiedKFold\n",
    "from catboost import CatBoostClassifier, sum_models\n",
    "\n",
    "\n",
    "def cv_catboost(X, Y, validation_df, cat_columns, target_column_name, number_of_runs):\n",
    "    # CROSS VALIDATION\n",
    "    cv = StratifiedKFold(n_splits=5, shuffle=True, random_state=7)\n",
    "\n",
    "    # RUN\n",
    "    c = 0\n",
    "    oof_preds = np.zeros((len(X), 2))\n",
    "    models = []\n",
    "\n",
    "    for train, valid in cv.split(X, Y):\n",
    "        print(\"VAL fold %s\" % c)\n",
    "        X_train = X.iloc[train]\n",
    "        Y_train = Y.iloc[train]\n",
    "        X_valid = X.iloc[valid]\n",
    "        Y_valid = Y.iloc[valid]\n",
    "\n",
    "        model = CatBoostClassifier(iterations=1500, \n",
    "                                   verbose=200,\n",
    "                                   random_seed=43,\n",
    "                                   od_type='Iter',\n",
    "                                   od_wait=200,\n",
    "                                   train_dir=f'model_cross_val_{c}'\n",
    "                                   )\n",
    "\n",
    "        try:\n",
    "            model.fit(X_train, Y_train,\n",
    "                    eval_set=(X_valid, Y_valid), \n",
    "                    use_best_model=True,\n",
    "                    cat_features=cat_columns, \n",
    "                    save_snapshot=True,\n",
    "                    snapshot_interval=300,\n",
    "                    snapshot_file=f'snapshot_{c}',\n",
    "                    )\n",
    "        except:\n",
    "            model.fit(X_train, Y_train,\n",
    "                    eval_set=(X_valid, Y_valid), \n",
    "                    use_best_model=True,\n",
    "                    cat_features=cat_columns,\n",
    "                    )\n",
    "        \n",
    "        oof_preds[valid] = model.predict_proba(X_valid)\n",
    "        models.append(model)\n",
    "\n",
    "        # EVALUATION\n",
    "        auc = roc_auc_score(validation_df[target_column_name], [r[1] for r in model.predict_proba(validation_df.drop(target_column_name, axis=1))] )\n",
    "        print(f'AUC for fold {c} is {auc}')\n",
    "        c += 1\n",
    "        \n",
    "        if c == number_of_runs:\n",
    "            break\n",
    "        \n",
    "    final_model = sum_models(models, ctr_merge_policy='LeaveMostDiversifiedTable')\n",
    "    auc = roc_auc_score(validation_df[target_column_name], [r[1] for r in final_model.predict(validation_df.drop(target_column_name, axis=1), prediction_type='Probability')] )\n",
    "    print(f'Final model AUC is {auc}')\n",
    "\n",
    "    # SAVE OOF PREDS\n",
    "    oof_pred_df = pd.DataFrame(columns=['ID_code', 'target'])\n",
    "    oof_pred_df['ID_code'] = pd.Series(X.index.tolist())\n",
    "    oof_pred_df['target'] = pd.Series(oof_preds)\n",
    "\n",
    "    return final_model, oof_pred_df, models"
   ]
  },
  {
   "cell_type": "code",
   "execution_count": 55,
   "metadata": {},
   "outputs": [],
   "source": [
    "train_df, validation_df = train_test_split(raw_data_actions, test_size=0.1, stratify=raw_data_actions['game_continue'], random_state=200)"
   ]
  },
  {
   "cell_type": "code",
   "execution_count": 56,
   "metadata": {},
   "outputs": [],
   "source": [
    "X, Y = train_df.drop(['game_continue'], axis=1), train_df['game_continue']"
   ]
  },
  {
   "cell_type": "code",
   "execution_count": 57,
   "metadata": {},
   "outputs": [],
   "source": [
    "def get_cat_cols(X, other_method=False):\n",
    "    categorical_cols = []\n",
    "    for col in X.columns:\n",
    "        if other_method is False:\n",
    "            s = X[col].unique().shape[0]\n",
    "            if s < 38 and 'sum' not in col and 'money_had' not in col:\n",
    "                samp = set(X[col].sample(100))\n",
    "                #print(f'For column {col} the number of unique valriables is {s}, sample {samp}')\n",
    "                categorical_cols.append(col)\n",
    "        else:\n",
    "            if X[col].dtype == object:\n",
    "                categorical_cols.append(col)\n",
    "    return categorical_cols"
   ]
  },
  {
   "cell_type": "code",
   "execution_count": 58,
   "metadata": {},
   "outputs": [],
   "source": [
    "categorical_cols = get_cat_cols(X)"
   ]
  },
  {
   "cell_type": "code",
   "execution_count": 59,
   "metadata": {},
   "outputs": [],
   "source": [
    "categorical_indices = [X.columns.get_loc(col) for col in categorical_cols]"
   ]
  },
  {
   "cell_type": "code",
   "execution_count": null,
   "metadata": {},
   "outputs": [
    {
     "name": "stdout",
     "output_type": "stream",
     "text": [
      "VAL fold 0\n",
      "Learning rate set to 0.071875\n",
      "Learning rate set to 0.071875\n",
      "0:\tlearn: 0.6755014\ttest: 0.6758373\tbest: 0.6758373 (0)\ttotal: 526ms\tremaining: 13m 7s\n",
      "200:\tlearn: 0.4788684\ttest: 0.4870342\tbest: 0.4870342 (200)\ttotal: 1m 36s\tremaining: 10m 23s\n",
      "400:\tlearn: 0.4547244\ttest: 0.4724106\tbest: 0.4724106 (400)\ttotal: 4m 12s\tremaining: 11m 33s\n"
     ]
    }
   ],
   "source": [
    "import time\n",
    "start = time.time()\n",
    "final_model, oof_pred_df, models = cv_catboost(X, Y, validation_df, categorical_indices, 'game_continue', 1)\n",
    "print(time.time() - start)"
   ]
  },
  {
   "cell_type": "code",
   "execution_count": null,
   "metadata": {},
   "outputs": [],
   "source": []
  },
  {
   "cell_type": "markdown",
   "metadata": {},
   "source": [
    "Get Feature importance"
   ]
  },
  {
   "cell_type": "code",
   "execution_count": 600,
   "metadata": {},
   "outputs": [],
   "source": [
    "import numpy as np \n",
    "from sklearn.metrics import roc_auc_score, accuracy_score\n",
    "\n",
    "\n",
    "def score(model, X, y):\n",
    "    y_pred = model.predict(X)\n",
    "    return accuracy_score(y, y_pred)\n",
    "\n",
    "def score_auc(model, X, y):\n",
    "    y_pred_prob = [i[1] for i in model.predict_proba(X)]\n",
    "    return roc_auc_score(y, y_pred_prob)\n",
    "\n",
    "def shuffled_scores(X_orig, y, model, score_func):\n",
    "    scores = []\n",
    "    for col in X_orig.columns:\n",
    "        X = X_orig.copy()\n",
    "        X[col] = np.random.permutation(X[col])\n",
    "        score = score_func(model, X, y)\n",
    "        scores.append(score)\n",
    "    return np.array(scores)\n",
    "\n",
    "def permutation_feature_importance(X, y, model, score_func, n_iter):\n",
    "    base_score = score_func(model, X, y)\n",
    "    print('Base score is ', base_score)\n",
    "    score_decreases = []\n",
    "    for i in range(n_iter):\n",
    "        scores = shuffled_scores(X, y, model, score_func)\n",
    "        score_decreases.append(-scores + base_score)\n",
    "    return base_score, score_decreases\n",
    "\n",
    "def get_permutation_importance(X, y, model, score_func):\n",
    "    '''\n",
    "    Call this function to get permutation feature importances.\n",
    "    X - pandas dataframe with all the features used to train the model\n",
    "    y - pandas dataframe or series object \n",
    "    model - Model object used for prediction. Any model objects with predict or .predict_proba methods are acceptable. \n",
    "    score_func - function to score the model. AUC and ACCURACY are available above\n",
    "    '''\n",
    "    \n",
    "    base_score, score_decreases = permutation_feature_importance(X, y, model, score_func, 5)\n",
    "    permutation_feature_importances = np.mean(score_decreases, axis=0)\n",
    "\n",
    "    return base_score, permutation_feature_importances"
   ]
  },
  {
   "cell_type": "code",
   "execution_count": 475,
   "metadata": {},
   "outputs": [
    {
     "name": "stdout",
     "output_type": "stream",
     "text": [
      "Base score is  0.8513074776358369\n"
     ]
    }
   ],
   "source": [
    "base_score, permutation_feature_importances = get_permutation_importance(validation_df.drop('game_continue', axis=1), validation_df['game_continue'], models[0], score_auc)"
   ]
  },
  {
   "cell_type": "code",
   "execution_count": 577,
   "metadata": {},
   "outputs": [],
   "source": [
    "feat_df = pd.DataFrame()\n",
    "feat_df['feature'] = validation_df.drop('game_continue', axis=1).columns.tolist()\n",
    "feat_df['scores'] = permutation_feature_importances\n",
    "feat_df.sort_values(by=['scores'], ascending=False, inplace=True)"
   ]
  },
  {
   "cell_type": "code",
   "execution_count": 578,
   "metadata": {},
   "outputs": [],
   "source": [
    "useful_feat_df = feat_df.loc[feat_df['scores']>0.0].copy()"
   ]
  },
  {
   "cell_type": "code",
   "execution_count": 579,
   "metadata": {},
   "outputs": [],
   "source": [
    "useful_features = useful_feat_df['feature'].tolist()"
   ]
  },
  {
   "cell_type": "code",
   "execution_count": 696,
   "metadata": {},
   "outputs": [
    {
     "ename": "KeyError",
     "evalue": "\"None of [Index(['MODE(actions.flop11)', 'SUM(actions.river_player_9_money_had_2)',\\n       'SUM(actions.river_player_10_action_sum_1)',\\n       'STD(actions.pre-flop_player_4_money_had_1)',\\n       'MEAN(actions.pre-flop_player_2_money_had_1 WHERE stage = river)',\\n       'MAX(actions.flop_player_2_action_sum_1 WHERE stage = flop)',\\n       'MODE(actions.pre-flop_player_3_action_type_1)',\\n       'MEAN(actions.river_player_6_action_sum_1)',\\n       'MEAN(actions.user_seat_num WHERE stage = pre-flop)',\\n       'MAX(actions.flop_player_2_action_sum_2)',\\n       'SUM(actions.turn_player_4_action_sum_1)',\\n       'MIN(actions.pre-flop_player_3_money_had_1 WHERE stage = river)',\\n       'STD(actions.turn_player_1_action_sum_1 WHERE stage = turn)',\\n       'STD(actions.turn_player_6_money_had_2)',\\n       'MEAN(actions.river_player_1_action_sum_1)',\\n       'MAX(actions.pre-flop_player_1_action_sum_2 WHERE stage = turn)',\\n       'MAX(actions.pre-flop_player_4_money_had_1 WHERE stage = river)',\\n       'STD(actions.river_player_3_money_had_1)',\\n       'MEAN(actions.pre-flop_player_5_action_sum_2 WHERE stage = river)',\\n       'MEAN(actions.money_i_have WHERE stage = pre-flop)',\\n       'MAX(actions.pre-flop_player_2_money_had_1 WHERE stage = turn)',\\n       'MIN(actions.flop_player_9_money_had_2 WHERE stage = river)',\\n       'MODE(actions.flop_player_2_action_type_1)',\\n       'STD(actions.flop_player_5_action_sum_1 WHERE stage = turn)',\\n       'MEAN(actions.pre-flop_player_5_money_had_2 WHERE stage = flop)',\\n       'STD(actions.pre-flop_player_6_money_had_1 WHERE stage = river)',\\n       'MAX(actions.pre-flop_player_1_money_had_1 WHERE stage = river)',\\n       'MAX(actions.turn_player_1_action_sum_2)',\\n       'MEAN(actions.flop_player_3_action_sum_2 WHERE stage = turn)',\\n       'SUM(actions.turn_player_6_action_sum_2)',\\n       'MAX(actions.money_i_have WHERE stage = flop)',\\n       'MEAN(actions.turn_player_6_action_sum_1 WHERE stage = turn)',\\n       'STD(actions.pre-flop_player_3_money_had_1 WHERE stage = turn)',\\n       'MAX(actions.action_types.user_action_sum WHERE stage = river)',\\n       'NUM_UNIQUE(actions.pre-flop_player_3_action_type_2)',\\n       'MAX(actions.flop_player_5_action_sum_1 WHERE stage = turn)',\\n       'SUM(actions.flop_player_9_money_had_1)',\\n       'MIN(actions.turn_player_5_money_had_1 WHERE stage = river)',\\n       'SKEW(actions.pre-flop_player_1_action_sum_2)',\\n       'STD(actions.turn_player_3_money_had_2 WHERE stage = river)',\\n       'MEAN(actions.river_player_1_money_had_1 WHERE stage = turn)',\\n       'MEAN(actions.turn_player_4_action_sum_2 WHERE stage = turn)',\\n       'MAX(actions.flop_player_5_money_had_1 WHERE stage = turn)',\\n       'MIN(actions.pre-flop_player_3_action_sum_1 WHERE stage = flop)',\\n       'MAX(actions.flop_player_2_action_sum_1)',\\n       'MIN(actions.user_result WHERE stage = flop)',\\n       'MEAN(actions.pre-flop_player_3_action_sum_2 WHERE stage = turn)',\\n       'MODE(actions.pre-flop_player_5_action_type_1)',\\n       'SKEW(actions.pre-flop_player_10_action_sum_2)',\\n       'MIN(actions.flop_player_2_money_had_1 WHERE stage = turn)',\\n       'MAX(actions.flop_player_5_money_had_1)',\\n       'STD(actions.flop_player_4_action_sum_1 WHERE stage = turn)',\\n       'MIN(actions.turn_player_10_money_had_2 WHERE stage = turn)',\\n       'STD(actions.flop_player_5_money_had_1 WHERE stage = pre-flop)',\\n       'MODE(actions.pre-flop_player_4_action_type_1)',\\n       'MEAN(actions.pre-flop_player_2_action_sum_2 WHERE stage = pre-flop)',\\n       'MEAN(actions.pre-flop_player_4_action_sum_1)',\\n       'MIN(actions.pre-flop_player_4_money_had_2 WHERE stage = turn)',\\n       'MAX(actions.money_i_have WHERE stage = pre-flop)',\\n       'MODE(actions.flop_player_5_action_type_1)',\\n       'MAX(actions.action_types.user_action_sum WHERE stage = turn)',\\n       'MEAN(actions.flop_player_1_money_had_2)',\\n       'STD(actions.river_player_10_money_had_1)',\\n       'MEAN(actions.turn_player_4_action_sum_1 WHERE stage = river)',\\n       'MEAN(actions.pre-flop_player_4_money_had_2 WHERE stage = river)'],\\n      dtype='object')] are in the [columns]\"",
     "output_type": "error",
     "traceback": [
      "\u001b[1;31m---------------------------------------------------------------------------\u001b[0m",
      "\u001b[1;31mKeyError\u001b[0m                                  Traceback (most recent call last)",
      "\u001b[1;32m<ipython-input-696-91431e2537fd>\u001b[0m in \u001b[0;36m<module>\u001b[1;34m\u001b[0m\n\u001b[1;32m----> 1\u001b[1;33m \u001b[0mnew_X\u001b[0m \u001b[1;33m=\u001b[0m \u001b[0mX\u001b[0m\u001b[1;33m[\u001b[0m\u001b[0museful_features\u001b[0m\u001b[1;33m]\u001b[0m\u001b[1;33m.\u001b[0m\u001b[0mcopy\u001b[0m\u001b[1;33m(\u001b[0m\u001b[1;33m)\u001b[0m\u001b[1;33m\u001b[0m\u001b[1;33m\u001b[0m\u001b[0m\n\u001b[0m\u001b[0;32m      2\u001b[0m \u001b[0mnew_validation_df\u001b[0m \u001b[1;33m=\u001b[0m \u001b[0mvalidation_df\u001b[0m\u001b[1;33m[\u001b[0m\u001b[0museful_features\u001b[0m \u001b[1;33m+\u001b[0m \u001b[1;33m[\u001b[0m\u001b[1;34m'game_continue'\u001b[0m\u001b[1;33m]\u001b[0m\u001b[1;33m]\u001b[0m\u001b[1;33m.\u001b[0m\u001b[0mcopy\u001b[0m\u001b[1;33m(\u001b[0m\u001b[1;33m)\u001b[0m\u001b[1;33m\u001b[0m\u001b[1;33m\u001b[0m\u001b[0m\n\u001b[0;32m      3\u001b[0m \u001b[0mcategorical_cols\u001b[0m \u001b[1;33m=\u001b[0m \u001b[0mget_cat_cols\u001b[0m\u001b[1;33m(\u001b[0m\u001b[0mnew_X\u001b[0m\u001b[1;33m)\u001b[0m\u001b[1;33m\u001b[0m\u001b[1;33m\u001b[0m\u001b[0m\n\u001b[0;32m      4\u001b[0m \u001b[0mcategorical_indices\u001b[0m \u001b[1;33m=\u001b[0m \u001b[1;33m[\u001b[0m\u001b[0mnew_X\u001b[0m\u001b[1;33m.\u001b[0m\u001b[0mcolumns\u001b[0m\u001b[1;33m.\u001b[0m\u001b[0mget_loc\u001b[0m\u001b[1;33m(\u001b[0m\u001b[0mcol\u001b[0m\u001b[1;33m)\u001b[0m \u001b[1;32mfor\u001b[0m \u001b[0mcol\u001b[0m \u001b[1;32min\u001b[0m \u001b[0mcategorical_cols\u001b[0m\u001b[1;33m]\u001b[0m\u001b[1;33m\u001b[0m\u001b[1;33m\u001b[0m\u001b[0m\n",
      "\u001b[1;32m~\\Desktop\\pokerai\\env\\lib\\site-packages\\pandas\\core\\frame.py\u001b[0m in \u001b[0;36m__getitem__\u001b[1;34m(self, key)\u001b[0m\n\u001b[0;32m   2910\u001b[0m             \u001b[1;32mif\u001b[0m \u001b[0mis_iterator\u001b[0m\u001b[1;33m(\u001b[0m\u001b[0mkey\u001b[0m\u001b[1;33m)\u001b[0m\u001b[1;33m:\u001b[0m\u001b[1;33m\u001b[0m\u001b[1;33m\u001b[0m\u001b[0m\n\u001b[0;32m   2911\u001b[0m                 \u001b[0mkey\u001b[0m \u001b[1;33m=\u001b[0m \u001b[0mlist\u001b[0m\u001b[1;33m(\u001b[0m\u001b[0mkey\u001b[0m\u001b[1;33m)\u001b[0m\u001b[1;33m\u001b[0m\u001b[1;33m\u001b[0m\u001b[0m\n\u001b[1;32m-> 2912\u001b[1;33m             \u001b[0mindexer\u001b[0m \u001b[1;33m=\u001b[0m \u001b[0mself\u001b[0m\u001b[1;33m.\u001b[0m\u001b[0mloc\u001b[0m\u001b[1;33m.\u001b[0m\u001b[0m_get_listlike_indexer\u001b[0m\u001b[1;33m(\u001b[0m\u001b[0mkey\u001b[0m\u001b[1;33m,\u001b[0m \u001b[0maxis\u001b[0m\u001b[1;33m=\u001b[0m\u001b[1;36m1\u001b[0m\u001b[1;33m,\u001b[0m \u001b[0mraise_missing\u001b[0m\u001b[1;33m=\u001b[0m\u001b[1;32mTrue\u001b[0m\u001b[1;33m)\u001b[0m\u001b[1;33m[\u001b[0m\u001b[1;36m1\u001b[0m\u001b[1;33m]\u001b[0m\u001b[1;33m\u001b[0m\u001b[1;33m\u001b[0m\u001b[0m\n\u001b[0m\u001b[0;32m   2913\u001b[0m \u001b[1;33m\u001b[0m\u001b[0m\n\u001b[0;32m   2914\u001b[0m         \u001b[1;31m# take() does not accept boolean indexers\u001b[0m\u001b[1;33m\u001b[0m\u001b[1;33m\u001b[0m\u001b[1;33m\u001b[0m\u001b[0m\n",
      "\u001b[1;32m~\\Desktop\\pokerai\\env\\lib\\site-packages\\pandas\\core\\indexing.py\u001b[0m in \u001b[0;36m_get_listlike_indexer\u001b[1;34m(self, key, axis, raise_missing)\u001b[0m\n\u001b[0;32m   1252\u001b[0m             \u001b[0mkeyarr\u001b[0m\u001b[1;33m,\u001b[0m \u001b[0mindexer\u001b[0m\u001b[1;33m,\u001b[0m \u001b[0mnew_indexer\u001b[0m \u001b[1;33m=\u001b[0m \u001b[0max\u001b[0m\u001b[1;33m.\u001b[0m\u001b[0m_reindex_non_unique\u001b[0m\u001b[1;33m(\u001b[0m\u001b[0mkeyarr\u001b[0m\u001b[1;33m)\u001b[0m\u001b[1;33m\u001b[0m\u001b[1;33m\u001b[0m\u001b[0m\n\u001b[0;32m   1253\u001b[0m \u001b[1;33m\u001b[0m\u001b[0m\n\u001b[1;32m-> 1254\u001b[1;33m         \u001b[0mself\u001b[0m\u001b[1;33m.\u001b[0m\u001b[0m_validate_read_indexer\u001b[0m\u001b[1;33m(\u001b[0m\u001b[0mkeyarr\u001b[0m\u001b[1;33m,\u001b[0m \u001b[0mindexer\u001b[0m\u001b[1;33m,\u001b[0m \u001b[0maxis\u001b[0m\u001b[1;33m,\u001b[0m \u001b[0mraise_missing\u001b[0m\u001b[1;33m=\u001b[0m\u001b[0mraise_missing\u001b[0m\u001b[1;33m)\u001b[0m\u001b[1;33m\u001b[0m\u001b[1;33m\u001b[0m\u001b[0m\n\u001b[0m\u001b[0;32m   1255\u001b[0m         \u001b[1;32mreturn\u001b[0m \u001b[0mkeyarr\u001b[0m\u001b[1;33m,\u001b[0m \u001b[0mindexer\u001b[0m\u001b[1;33m\u001b[0m\u001b[1;33m\u001b[0m\u001b[0m\n\u001b[0;32m   1256\u001b[0m \u001b[1;33m\u001b[0m\u001b[0m\n",
      "\u001b[1;32m~\\Desktop\\pokerai\\env\\lib\\site-packages\\pandas\\core\\indexing.py\u001b[0m in \u001b[0;36m_validate_read_indexer\u001b[1;34m(self, key, indexer, axis, raise_missing)\u001b[0m\n\u001b[0;32m   1296\u001b[0m             \u001b[1;32mif\u001b[0m \u001b[0mmissing\u001b[0m \u001b[1;33m==\u001b[0m \u001b[0mlen\u001b[0m\u001b[1;33m(\u001b[0m\u001b[0mindexer\u001b[0m\u001b[1;33m)\u001b[0m\u001b[1;33m:\u001b[0m\u001b[1;33m\u001b[0m\u001b[1;33m\u001b[0m\u001b[0m\n\u001b[0;32m   1297\u001b[0m                 \u001b[0maxis_name\u001b[0m \u001b[1;33m=\u001b[0m \u001b[0mself\u001b[0m\u001b[1;33m.\u001b[0m\u001b[0mobj\u001b[0m\u001b[1;33m.\u001b[0m\u001b[0m_get_axis_name\u001b[0m\u001b[1;33m(\u001b[0m\u001b[0maxis\u001b[0m\u001b[1;33m)\u001b[0m\u001b[1;33m\u001b[0m\u001b[1;33m\u001b[0m\u001b[0m\n\u001b[1;32m-> 1298\u001b[1;33m                 \u001b[1;32mraise\u001b[0m \u001b[0mKeyError\u001b[0m\u001b[1;33m(\u001b[0m\u001b[1;34mf\"None of [{key}] are in the [{axis_name}]\"\u001b[0m\u001b[1;33m)\u001b[0m\u001b[1;33m\u001b[0m\u001b[1;33m\u001b[0m\u001b[0m\n\u001b[0m\u001b[0;32m   1299\u001b[0m \u001b[1;33m\u001b[0m\u001b[0m\n\u001b[0;32m   1300\u001b[0m             \u001b[1;31m# We (temporarily) allow for some missing keys with .loc, except in\u001b[0m\u001b[1;33m\u001b[0m\u001b[1;33m\u001b[0m\u001b[1;33m\u001b[0m\u001b[0m\n",
      "\u001b[1;31mKeyError\u001b[0m: \"None of [Index(['MODE(actions.flop11)', 'SUM(actions.river_player_9_money_had_2)',\\n       'SUM(actions.river_player_10_action_sum_1)',\\n       'STD(actions.pre-flop_player_4_money_had_1)',\\n       'MEAN(actions.pre-flop_player_2_money_had_1 WHERE stage = river)',\\n       'MAX(actions.flop_player_2_action_sum_1 WHERE stage = flop)',\\n       'MODE(actions.pre-flop_player_3_action_type_1)',\\n       'MEAN(actions.river_player_6_action_sum_1)',\\n       'MEAN(actions.user_seat_num WHERE stage = pre-flop)',\\n       'MAX(actions.flop_player_2_action_sum_2)',\\n       'SUM(actions.turn_player_4_action_sum_1)',\\n       'MIN(actions.pre-flop_player_3_money_had_1 WHERE stage = river)',\\n       'STD(actions.turn_player_1_action_sum_1 WHERE stage = turn)',\\n       'STD(actions.turn_player_6_money_had_2)',\\n       'MEAN(actions.river_player_1_action_sum_1)',\\n       'MAX(actions.pre-flop_player_1_action_sum_2 WHERE stage = turn)',\\n       'MAX(actions.pre-flop_player_4_money_had_1 WHERE stage = river)',\\n       'STD(actions.river_player_3_money_had_1)',\\n       'MEAN(actions.pre-flop_player_5_action_sum_2 WHERE stage = river)',\\n       'MEAN(actions.money_i_have WHERE stage = pre-flop)',\\n       'MAX(actions.pre-flop_player_2_money_had_1 WHERE stage = turn)',\\n       'MIN(actions.flop_player_9_money_had_2 WHERE stage = river)',\\n       'MODE(actions.flop_player_2_action_type_1)',\\n       'STD(actions.flop_player_5_action_sum_1 WHERE stage = turn)',\\n       'MEAN(actions.pre-flop_player_5_money_had_2 WHERE stage = flop)',\\n       'STD(actions.pre-flop_player_6_money_had_1 WHERE stage = river)',\\n       'MAX(actions.pre-flop_player_1_money_had_1 WHERE stage = river)',\\n       'MAX(actions.turn_player_1_action_sum_2)',\\n       'MEAN(actions.flop_player_3_action_sum_2 WHERE stage = turn)',\\n       'SUM(actions.turn_player_6_action_sum_2)',\\n       'MAX(actions.money_i_have WHERE stage = flop)',\\n       'MEAN(actions.turn_player_6_action_sum_1 WHERE stage = turn)',\\n       'STD(actions.pre-flop_player_3_money_had_1 WHERE stage = turn)',\\n       'MAX(actions.action_types.user_action_sum WHERE stage = river)',\\n       'NUM_UNIQUE(actions.pre-flop_player_3_action_type_2)',\\n       'MAX(actions.flop_player_5_action_sum_1 WHERE stage = turn)',\\n       'SUM(actions.flop_player_9_money_had_1)',\\n       'MIN(actions.turn_player_5_money_had_1 WHERE stage = river)',\\n       'SKEW(actions.pre-flop_player_1_action_sum_2)',\\n       'STD(actions.turn_player_3_money_had_2 WHERE stage = river)',\\n       'MEAN(actions.river_player_1_money_had_1 WHERE stage = turn)',\\n       'MEAN(actions.turn_player_4_action_sum_2 WHERE stage = turn)',\\n       'MAX(actions.flop_player_5_money_had_1 WHERE stage = turn)',\\n       'MIN(actions.pre-flop_player_3_action_sum_1 WHERE stage = flop)',\\n       'MAX(actions.flop_player_2_action_sum_1)',\\n       'MIN(actions.user_result WHERE stage = flop)',\\n       'MEAN(actions.pre-flop_player_3_action_sum_2 WHERE stage = turn)',\\n       'MODE(actions.pre-flop_player_5_action_type_1)',\\n       'SKEW(actions.pre-flop_player_10_action_sum_2)',\\n       'MIN(actions.flop_player_2_money_had_1 WHERE stage = turn)',\\n       'MAX(actions.flop_player_5_money_had_1)',\\n       'STD(actions.flop_player_4_action_sum_1 WHERE stage = turn)',\\n       'MIN(actions.turn_player_10_money_had_2 WHERE stage = turn)',\\n       'STD(actions.flop_player_5_money_had_1 WHERE stage = pre-flop)',\\n       'MODE(actions.pre-flop_player_4_action_type_1)',\\n       'MEAN(actions.pre-flop_player_2_action_sum_2 WHERE stage = pre-flop)',\\n       'MEAN(actions.pre-flop_player_4_action_sum_1)',\\n       'MIN(actions.pre-flop_player_4_money_had_2 WHERE stage = turn)',\\n       'MAX(actions.money_i_have WHERE stage = pre-flop)',\\n       'MODE(actions.flop_player_5_action_type_1)',\\n       'MAX(actions.action_types.user_action_sum WHERE stage = turn)',\\n       'MEAN(actions.flop_player_1_money_had_2)',\\n       'STD(actions.river_player_10_money_had_1)',\\n       'MEAN(actions.turn_player_4_action_sum_1 WHERE stage = river)',\\n       'MEAN(actions.pre-flop_player_4_money_had_2 WHERE stage = river)'],\\n      dtype='object')] are in the [columns]\""
     ]
    }
   ],
   "source": [
    "new_X = X[useful_features].copy()\n",
    "new_validation_df = validation_df[useful_features + ['game_continue']].copy()\n",
    "categorical_cols = get_cat_cols(new_X)\n",
    "categorical_indices = [new_X.columns.get_loc(col) for col in categorical_cols]"
   ]
  },
  {
   "cell_type": "code",
   "execution_count": 697,
   "metadata": {},
   "outputs": [
    {
     "name": "stdout",
     "output_type": "stream",
     "text": [
      "VAL fold 0\n"
     ]
    },
    {
     "ename": "CatBoostError",
     "evalue": "Invalid cat_features[46] = 102 value: index must be < 102.",
     "output_type": "error",
     "traceback": [
      "\u001b[1;31m---------------------------------------------------------------------------\u001b[0m",
      "\u001b[1;31mCatBoostError\u001b[0m                             Traceback (most recent call last)",
      "\u001b[1;32m<ipython-input-676-681f5417d81e>\u001b[0m in \u001b[0;36mcv_catboost\u001b[1;34m(X, Y, validation_df, cat_columns, target_column_name, number_of_runs)\u001b[0m\n\u001b[0;32m     36\u001b[0m                     \u001b[0msnapshot_interval\u001b[0m\u001b[1;33m=\u001b[0m\u001b[1;36m300\u001b[0m\u001b[1;33m,\u001b[0m\u001b[1;33m\u001b[0m\u001b[1;33m\u001b[0m\u001b[0m\n\u001b[1;32m---> 37\u001b[1;33m                     \u001b[0msnapshot_file\u001b[0m\u001b[1;33m=\u001b[0m\u001b[1;34mf'snapshot_{c}'\u001b[0m\u001b[1;33m,\u001b[0m\u001b[1;33m\u001b[0m\u001b[1;33m\u001b[0m\u001b[0m\n\u001b[0m\u001b[0;32m     38\u001b[0m                     )\n",
      "\u001b[1;32m~\\Desktop\\pokerai\\env\\lib\\site-packages\\catboost\\core.py\u001b[0m in \u001b[0;36mfit\u001b[1;34m(self, X, y, cat_features, text_features, embedding_features, sample_weight, baseline, use_best_model, eval_set, verbose, logging_level, plot, column_description, verbose_eval, metric_period, silent, early_stopping_rounds, save_snapshot, snapshot_file, snapshot_interval, init_model)\u001b[0m\n\u001b[0;32m   4301\u001b[0m                   \u001b[0meval_set\u001b[0m\u001b[1;33m,\u001b[0m \u001b[0mverbose\u001b[0m\u001b[1;33m,\u001b[0m \u001b[0mlogging_level\u001b[0m\u001b[1;33m,\u001b[0m \u001b[0mplot\u001b[0m\u001b[1;33m,\u001b[0m \u001b[0mcolumn_description\u001b[0m\u001b[1;33m,\u001b[0m \u001b[0mverbose_eval\u001b[0m\u001b[1;33m,\u001b[0m \u001b[0mmetric_period\u001b[0m\u001b[1;33m,\u001b[0m\u001b[1;33m\u001b[0m\u001b[1;33m\u001b[0m\u001b[0m\n\u001b[1;32m-> 4302\u001b[1;33m                   silent, early_stopping_rounds, save_snapshot, snapshot_file, snapshot_interval, init_model)\n\u001b[0m\u001b[0;32m   4303\u001b[0m         \u001b[1;32mreturn\u001b[0m \u001b[0mself\u001b[0m\u001b[1;33m\u001b[0m\u001b[1;33m\u001b[0m\u001b[0m\n",
      "\u001b[1;32m~\\Desktop\\pokerai\\env\\lib\\site-packages\\catboost\\core.py\u001b[0m in \u001b[0;36m_fit\u001b[1;34m(self, X, y, cat_features, text_features, embedding_features, pairs, sample_weight, group_id, group_weight, subgroup_id, pairs_weight, baseline, use_best_model, eval_set, verbose, logging_level, plot, column_description, verbose_eval, metric_period, silent, early_stopping_rounds, save_snapshot, snapshot_file, snapshot_interval, init_model)\u001b[0m\n\u001b[0;32m   1796\u001b[0m             \u001b[0mcolumn_description\u001b[0m\u001b[1;33m,\u001b[0m \u001b[0mverbose_eval\u001b[0m\u001b[1;33m,\u001b[0m \u001b[0mmetric_period\u001b[0m\u001b[1;33m,\u001b[0m \u001b[0msilent\u001b[0m\u001b[1;33m,\u001b[0m \u001b[0mearly_stopping_rounds\u001b[0m\u001b[1;33m,\u001b[0m\u001b[1;33m\u001b[0m\u001b[1;33m\u001b[0m\u001b[0m\n\u001b[1;32m-> 1797\u001b[1;33m             \u001b[0msave_snapshot\u001b[0m\u001b[1;33m,\u001b[0m \u001b[0msnapshot_file\u001b[0m\u001b[1;33m,\u001b[0m \u001b[0msnapshot_interval\u001b[0m\u001b[1;33m,\u001b[0m \u001b[0minit_model\u001b[0m\u001b[1;33m\u001b[0m\u001b[1;33m\u001b[0m\u001b[0m\n\u001b[0m\u001b[0;32m   1798\u001b[0m         )\n",
      "\u001b[1;32m~\\Desktop\\pokerai\\env\\lib\\site-packages\\catboost\\core.py\u001b[0m in \u001b[0;36m_prepare_train_params\u001b[1;34m(self, X, y, cat_features, text_features, embedding_features, pairs, sample_weight, group_id, group_weight, subgroup_id, pairs_weight, baseline, use_best_model, eval_set, verbose, logging_level, plot, column_description, verbose_eval, metric_period, silent, early_stopping_rounds, save_snapshot, snapshot_file, snapshot_interval, init_model)\u001b[0m\n\u001b[0;32m   1683\u001b[0m                                        \u001b[0msample_weight\u001b[0m\u001b[1;33m,\u001b[0m \u001b[0mgroup_id\u001b[0m\u001b[1;33m,\u001b[0m \u001b[0mgroup_weight\u001b[0m\u001b[1;33m,\u001b[0m \u001b[0msubgroup_id\u001b[0m\u001b[1;33m,\u001b[0m \u001b[0mpairs_weight\u001b[0m\u001b[1;33m,\u001b[0m\u001b[1;33m\u001b[0m\u001b[1;33m\u001b[0m\u001b[0m\n\u001b[1;32m-> 1684\u001b[1;33m                                        baseline, column_description)\n\u001b[0m\u001b[0;32m   1685\u001b[0m         \u001b[1;32mif\u001b[0m \u001b[0mtrain_pool\u001b[0m\u001b[1;33m.\u001b[0m\u001b[0mis_empty_\u001b[0m\u001b[1;33m:\u001b[0m\u001b[1;33m\u001b[0m\u001b[1;33m\u001b[0m\u001b[0m\n",
      "\u001b[1;32m~\\Desktop\\pokerai\\env\\lib\\site-packages\\catboost\\core.py\u001b[0m in \u001b[0;36m_build_train_pool\u001b[1;34m(X, y, cat_features, text_features, embedding_features, pairs, sample_weight, group_id, group_weight, subgroup_id, pairs_weight, baseline, column_description)\u001b[0m\n\u001b[0;32m    984\u001b[0m         train_pool = Pool(X, y, cat_features=cat_features, text_features=text_features, embedding_features=embedding_features, pairs=pairs, weight=sample_weight, group_id=group_id,\n\u001b[1;32m--> 985\u001b[1;33m                           group_weight=group_weight, subgroup_id=subgroup_id, pairs_weight=pairs_weight, baseline=baseline)\n\u001b[0m\u001b[0;32m    986\u001b[0m     \u001b[1;32mreturn\u001b[0m \u001b[0mtrain_pool\u001b[0m\u001b[1;33m\u001b[0m\u001b[1;33m\u001b[0m\u001b[0m\n",
      "\u001b[1;32m~\\Desktop\\pokerai\\env\\lib\\site-packages\\catboost\\core.py\u001b[0m in \u001b[0;36m__init__\u001b[1;34m(self, data, label, cat_features, text_features, embedding_features, column_description, pairs, delimiter, has_header, ignore_csv_quoting, weight, group_id, group_weight, subgroup_id, pairs_weight, baseline, feature_names, thread_count)\u001b[0m\n\u001b[0;32m    454\u001b[0m \u001b[1;33m\u001b[0m\u001b[0m\n\u001b[1;32m--> 455\u001b[1;33m                 \u001b[0mself\u001b[0m\u001b[1;33m.\u001b[0m\u001b[0m_init\u001b[0m\u001b[1;33m(\u001b[0m\u001b[0mdata\u001b[0m\u001b[1;33m,\u001b[0m \u001b[0mlabel\u001b[0m\u001b[1;33m,\u001b[0m \u001b[0mcat_features\u001b[0m\u001b[1;33m,\u001b[0m \u001b[0mtext_features\u001b[0m\u001b[1;33m,\u001b[0m \u001b[0membedding_features\u001b[0m\u001b[1;33m,\u001b[0m \u001b[0mpairs\u001b[0m\u001b[1;33m,\u001b[0m \u001b[0mweight\u001b[0m\u001b[1;33m,\u001b[0m \u001b[0mgroup_id\u001b[0m\u001b[1;33m,\u001b[0m \u001b[0mgroup_weight\u001b[0m\u001b[1;33m,\u001b[0m \u001b[0msubgroup_id\u001b[0m\u001b[1;33m,\u001b[0m \u001b[0mpairs_weight\u001b[0m\u001b[1;33m,\u001b[0m \u001b[0mbaseline\u001b[0m\u001b[1;33m,\u001b[0m \u001b[0mfeature_names\u001b[0m\u001b[1;33m,\u001b[0m \u001b[0mthread_count\u001b[0m\u001b[1;33m)\u001b[0m\u001b[1;33m\u001b[0m\u001b[1;33m\u001b[0m\u001b[0m\n\u001b[0m\u001b[0;32m    456\u001b[0m         \u001b[0msuper\u001b[0m\u001b[1;33m(\u001b[0m\u001b[0mPool\u001b[0m\u001b[1;33m,\u001b[0m \u001b[0mself\u001b[0m\u001b[1;33m)\u001b[0m\u001b[1;33m.\u001b[0m\u001b[0m__init__\u001b[0m\u001b[1;33m(\u001b[0m\u001b[1;33m)\u001b[0m\u001b[1;33m\u001b[0m\u001b[1;33m\u001b[0m\u001b[0m\n",
      "\u001b[1;32m~\\Desktop\\pokerai\\env\\lib\\site-packages\\catboost\\core.py\u001b[0m in \u001b[0;36m_init\u001b[1;34m(self, data, label, cat_features, text_features, embedding_features, pairs, weight, group_id, group_weight, subgroup_id, pairs_weight, baseline, feature_names, thread_count)\u001b[0m\n\u001b[0;32m    925\u001b[0m             \u001b[0mself\u001b[0m\u001b[1;33m.\u001b[0m\u001b[0m_check_string_feature_type\u001b[0m\u001b[1;33m(\u001b[0m\u001b[0mcat_features\u001b[0m\u001b[1;33m,\u001b[0m \u001b[1;34m'cat_features'\u001b[0m\u001b[1;33m)\u001b[0m\u001b[1;33m\u001b[0m\u001b[1;33m\u001b[0m\u001b[0m\n\u001b[1;32m--> 926\u001b[1;33m             \u001b[0mself\u001b[0m\u001b[1;33m.\u001b[0m\u001b[0m_check_string_feature_value\u001b[0m\u001b[1;33m(\u001b[0m\u001b[0mcat_features\u001b[0m\u001b[1;33m,\u001b[0m \u001b[0mfeatures_count\u001b[0m\u001b[1;33m,\u001b[0m \u001b[1;34m'cat_features'\u001b[0m\u001b[1;33m)\u001b[0m\u001b[1;33m\u001b[0m\u001b[1;33m\u001b[0m\u001b[0m\n\u001b[0m\u001b[0;32m    927\u001b[0m         \u001b[1;32mif\u001b[0m \u001b[0mtext_features\u001b[0m \u001b[1;32mis\u001b[0m \u001b[1;32mnot\u001b[0m \u001b[1;32mNone\u001b[0m\u001b[1;33m:\u001b[0m\u001b[1;33m\u001b[0m\u001b[1;33m\u001b[0m\u001b[0m\n",
      "\u001b[1;32m~\\Desktop\\pokerai\\env\\lib\\site-packages\\catboost\\core.py\u001b[0m in \u001b[0;36m_check_string_feature_value\u001b[1;34m(self, features, features_count, features_name)\u001b[0m\n\u001b[0;32m    496\u001b[0m             \u001b[1;32mif\u001b[0m \u001b[0mfeature\u001b[0m \u001b[1;33m>=\u001b[0m \u001b[0mfeatures_count\u001b[0m\u001b[1;33m:\u001b[0m\u001b[1;33m\u001b[0m\u001b[1;33m\u001b[0m\u001b[0m\n\u001b[1;32m--> 497\u001b[1;33m                 \u001b[1;32mraise\u001b[0m \u001b[0mCatBoostError\u001b[0m\u001b[1;33m(\u001b[0m\u001b[1;34m\"Invalid {}[{}] = {} value: index must be < {}.\"\u001b[0m\u001b[1;33m.\u001b[0m\u001b[0mformat\u001b[0m\u001b[1;33m(\u001b[0m\u001b[0mfeatures_name\u001b[0m\u001b[1;33m,\u001b[0m \u001b[0mindx\u001b[0m\u001b[1;33m,\u001b[0m \u001b[0mfeature\u001b[0m\u001b[1;33m,\u001b[0m \u001b[0mfeatures_count\u001b[0m\u001b[1;33m)\u001b[0m\u001b[1;33m)\u001b[0m\u001b[1;33m\u001b[0m\u001b[1;33m\u001b[0m\u001b[0m\n\u001b[0m\u001b[0;32m    498\u001b[0m \u001b[1;33m\u001b[0m\u001b[0m\n",
      "\u001b[1;31mCatBoostError\u001b[0m: Invalid cat_features[46] = 102 value: index must be < 102.",
      "\nDuring handling of the above exception, another exception occurred:\n",
      "\u001b[1;31mCatBoostError\u001b[0m                             Traceback (most recent call last)",
      "\u001b[1;32m<ipython-input-697-eddb9c0c0f1e>\u001b[0m in \u001b[0;36m<module>\u001b[1;34m\u001b[0m\n\u001b[0;32m      1\u001b[0m \u001b[1;32mimport\u001b[0m \u001b[0mtime\u001b[0m\u001b[1;33m\u001b[0m\u001b[1;33m\u001b[0m\u001b[0m\n\u001b[0;32m      2\u001b[0m \u001b[0mstart\u001b[0m \u001b[1;33m=\u001b[0m \u001b[0mtime\u001b[0m\u001b[1;33m.\u001b[0m\u001b[0mtime\u001b[0m\u001b[1;33m(\u001b[0m\u001b[1;33m)\u001b[0m\u001b[1;33m\u001b[0m\u001b[1;33m\u001b[0m\u001b[0m\n\u001b[1;32m----> 3\u001b[1;33m \u001b[0mfinal_model\u001b[0m\u001b[1;33m,\u001b[0m \u001b[0moof_pred_df\u001b[0m\u001b[1;33m,\u001b[0m \u001b[0mmodels\u001b[0m \u001b[1;33m=\u001b[0m \u001b[0mcv_catboost\u001b[0m\u001b[1;33m(\u001b[0m\u001b[0mnew_X\u001b[0m\u001b[1;33m,\u001b[0m \u001b[0mY\u001b[0m\u001b[1;33m,\u001b[0m \u001b[0mnew_validation_df\u001b[0m\u001b[1;33m,\u001b[0m \u001b[0mcategorical_indices\u001b[0m\u001b[1;33m,\u001b[0m \u001b[1;34m'game_continue'\u001b[0m\u001b[1;33m,\u001b[0m \u001b[1;36m1\u001b[0m\u001b[1;33m)\u001b[0m\u001b[1;33m\u001b[0m\u001b[1;33m\u001b[0m\u001b[0m\n\u001b[0m\u001b[0;32m      4\u001b[0m \u001b[0mprint\u001b[0m\u001b[1;33m(\u001b[0m\u001b[0mtime\u001b[0m\u001b[1;33m.\u001b[0m\u001b[0mtime\u001b[0m\u001b[1;33m(\u001b[0m\u001b[1;33m)\u001b[0m \u001b[1;33m-\u001b[0m \u001b[0mstart\u001b[0m\u001b[1;33m)\u001b[0m\u001b[1;33m\u001b[0m\u001b[1;33m\u001b[0m\u001b[0m\n",
      "\u001b[1;32m<ipython-input-676-681f5417d81e>\u001b[0m in \u001b[0;36mcv_catboost\u001b[1;34m(X, Y, validation_df, cat_columns, target_column_name, number_of_runs)\u001b[0m\n\u001b[0;32m     41\u001b[0m                     \u001b[0meval_set\u001b[0m\u001b[1;33m=\u001b[0m\u001b[1;33m(\u001b[0m\u001b[0mX_valid\u001b[0m\u001b[1;33m,\u001b[0m \u001b[0mY_valid\u001b[0m\u001b[1;33m)\u001b[0m\u001b[1;33m,\u001b[0m\u001b[1;33m\u001b[0m\u001b[1;33m\u001b[0m\u001b[0m\n\u001b[0;32m     42\u001b[0m                     \u001b[0muse_best_model\u001b[0m\u001b[1;33m=\u001b[0m\u001b[1;32mTrue\u001b[0m\u001b[1;33m,\u001b[0m\u001b[1;33m\u001b[0m\u001b[1;33m\u001b[0m\u001b[0m\n\u001b[1;32m---> 43\u001b[1;33m                     \u001b[0mcat_features\u001b[0m\u001b[1;33m=\u001b[0m\u001b[0mcat_columns\u001b[0m\u001b[1;33m,\u001b[0m\u001b[1;33m\u001b[0m\u001b[1;33m\u001b[0m\u001b[0m\n\u001b[0m\u001b[0;32m     44\u001b[0m                     )\n\u001b[0;32m     45\u001b[0m \u001b[1;33m\u001b[0m\u001b[0m\n",
      "\u001b[1;32m~\\Desktop\\pokerai\\env\\lib\\site-packages\\catboost\\core.py\u001b[0m in \u001b[0;36mfit\u001b[1;34m(self, X, y, cat_features, text_features, embedding_features, sample_weight, baseline, use_best_model, eval_set, verbose, logging_level, plot, column_description, verbose_eval, metric_period, silent, early_stopping_rounds, save_snapshot, snapshot_file, snapshot_interval, init_model)\u001b[0m\n\u001b[0;32m   4300\u001b[0m         self._fit(X, y, cat_features, text_features, embedding_features, None, sample_weight, None, None, None, None, baseline, use_best_model,\n\u001b[0;32m   4301\u001b[0m                   \u001b[0meval_set\u001b[0m\u001b[1;33m,\u001b[0m \u001b[0mverbose\u001b[0m\u001b[1;33m,\u001b[0m \u001b[0mlogging_level\u001b[0m\u001b[1;33m,\u001b[0m \u001b[0mplot\u001b[0m\u001b[1;33m,\u001b[0m \u001b[0mcolumn_description\u001b[0m\u001b[1;33m,\u001b[0m \u001b[0mverbose_eval\u001b[0m\u001b[1;33m,\u001b[0m \u001b[0mmetric_period\u001b[0m\u001b[1;33m,\u001b[0m\u001b[1;33m\u001b[0m\u001b[1;33m\u001b[0m\u001b[0m\n\u001b[1;32m-> 4302\u001b[1;33m                   silent, early_stopping_rounds, save_snapshot, snapshot_file, snapshot_interval, init_model)\n\u001b[0m\u001b[0;32m   4303\u001b[0m         \u001b[1;32mreturn\u001b[0m \u001b[0mself\u001b[0m\u001b[1;33m\u001b[0m\u001b[1;33m\u001b[0m\u001b[0m\n\u001b[0;32m   4304\u001b[0m \u001b[1;33m\u001b[0m\u001b[0m\n",
      "\u001b[1;32m~\\Desktop\\pokerai\\env\\lib\\site-packages\\catboost\\core.py\u001b[0m in \u001b[0;36m_fit\u001b[1;34m(self, X, y, cat_features, text_features, embedding_features, pairs, sample_weight, group_id, group_weight, subgroup_id, pairs_weight, baseline, use_best_model, eval_set, verbose, logging_level, plot, column_description, verbose_eval, metric_period, silent, early_stopping_rounds, save_snapshot, snapshot_file, snapshot_interval, init_model)\u001b[0m\n\u001b[0;32m   1795\u001b[0m             \u001b[0muse_best_model\u001b[0m\u001b[1;33m,\u001b[0m \u001b[0meval_set\u001b[0m\u001b[1;33m,\u001b[0m \u001b[0mverbose\u001b[0m\u001b[1;33m,\u001b[0m \u001b[0mlogging_level\u001b[0m\u001b[1;33m,\u001b[0m \u001b[0mplot\u001b[0m\u001b[1;33m,\u001b[0m\u001b[1;33m\u001b[0m\u001b[1;33m\u001b[0m\u001b[0m\n\u001b[0;32m   1796\u001b[0m             \u001b[0mcolumn_description\u001b[0m\u001b[1;33m,\u001b[0m \u001b[0mverbose_eval\u001b[0m\u001b[1;33m,\u001b[0m \u001b[0mmetric_period\u001b[0m\u001b[1;33m,\u001b[0m \u001b[0msilent\u001b[0m\u001b[1;33m,\u001b[0m \u001b[0mearly_stopping_rounds\u001b[0m\u001b[1;33m,\u001b[0m\u001b[1;33m\u001b[0m\u001b[1;33m\u001b[0m\u001b[0m\n\u001b[1;32m-> 1797\u001b[1;33m             \u001b[0msave_snapshot\u001b[0m\u001b[1;33m,\u001b[0m \u001b[0msnapshot_file\u001b[0m\u001b[1;33m,\u001b[0m \u001b[0msnapshot_interval\u001b[0m\u001b[1;33m,\u001b[0m \u001b[0minit_model\u001b[0m\u001b[1;33m\u001b[0m\u001b[1;33m\u001b[0m\u001b[0m\n\u001b[0m\u001b[0;32m   1798\u001b[0m         )\n\u001b[0;32m   1799\u001b[0m         \u001b[0mparams\u001b[0m \u001b[1;33m=\u001b[0m \u001b[0mtrain_params\u001b[0m\u001b[1;33m[\u001b[0m\u001b[1;34m\"params\"\u001b[0m\u001b[1;33m]\u001b[0m\u001b[1;33m\u001b[0m\u001b[1;33m\u001b[0m\u001b[0m\n",
      "\u001b[1;32m~\\Desktop\\pokerai\\env\\lib\\site-packages\\catboost\\core.py\u001b[0m in \u001b[0;36m_prepare_train_params\u001b[1;34m(self, X, y, cat_features, text_features, embedding_features, pairs, sample_weight, group_id, group_weight, subgroup_id, pairs_weight, baseline, use_best_model, eval_set, verbose, logging_level, plot, column_description, verbose_eval, metric_period, silent, early_stopping_rounds, save_snapshot, snapshot_file, snapshot_interval, init_model)\u001b[0m\n\u001b[0;32m   1682\u001b[0m         train_pool = _build_train_pool(X, y, cat_features, text_features, embedding_features, pairs,\n\u001b[0;32m   1683\u001b[0m                                        \u001b[0msample_weight\u001b[0m\u001b[1;33m,\u001b[0m \u001b[0mgroup_id\u001b[0m\u001b[1;33m,\u001b[0m \u001b[0mgroup_weight\u001b[0m\u001b[1;33m,\u001b[0m \u001b[0msubgroup_id\u001b[0m\u001b[1;33m,\u001b[0m \u001b[0mpairs_weight\u001b[0m\u001b[1;33m,\u001b[0m\u001b[1;33m\u001b[0m\u001b[1;33m\u001b[0m\u001b[0m\n\u001b[1;32m-> 1684\u001b[1;33m                                        baseline, column_description)\n\u001b[0m\u001b[0;32m   1685\u001b[0m         \u001b[1;32mif\u001b[0m \u001b[0mtrain_pool\u001b[0m\u001b[1;33m.\u001b[0m\u001b[0mis_empty_\u001b[0m\u001b[1;33m:\u001b[0m\u001b[1;33m\u001b[0m\u001b[1;33m\u001b[0m\u001b[0m\n\u001b[0;32m   1686\u001b[0m             \u001b[1;32mraise\u001b[0m \u001b[0mCatBoostError\u001b[0m\u001b[1;33m(\u001b[0m\u001b[1;34m\"X is empty.\"\u001b[0m\u001b[1;33m)\u001b[0m\u001b[1;33m\u001b[0m\u001b[1;33m\u001b[0m\u001b[0m\n",
      "\u001b[1;32m~\\Desktop\\pokerai\\env\\lib\\site-packages\\catboost\\core.py\u001b[0m in \u001b[0;36m_build_train_pool\u001b[1;34m(X, y, cat_features, text_features, embedding_features, pairs, sample_weight, group_id, group_weight, subgroup_id, pairs_weight, baseline, column_description)\u001b[0m\n\u001b[0;32m    983\u001b[0m             \u001b[1;32mraise\u001b[0m \u001b[0mCatBoostError\u001b[0m\u001b[1;33m(\u001b[0m\u001b[1;34m\"y has not initialized in fit(): X is not catboost.Pool object, y must be not None in fit().\"\u001b[0m\u001b[1;33m)\u001b[0m\u001b[1;33m\u001b[0m\u001b[1;33m\u001b[0m\u001b[0m\n\u001b[0;32m    984\u001b[0m         train_pool = Pool(X, y, cat_features=cat_features, text_features=text_features, embedding_features=embedding_features, pairs=pairs, weight=sample_weight, group_id=group_id,\n\u001b[1;32m--> 985\u001b[1;33m                           group_weight=group_weight, subgroup_id=subgroup_id, pairs_weight=pairs_weight, baseline=baseline)\n\u001b[0m\u001b[0;32m    986\u001b[0m     \u001b[1;32mreturn\u001b[0m \u001b[0mtrain_pool\u001b[0m\u001b[1;33m\u001b[0m\u001b[1;33m\u001b[0m\u001b[0m\n\u001b[0;32m    987\u001b[0m \u001b[1;33m\u001b[0m\u001b[0m\n",
      "\u001b[1;32m~\\Desktop\\pokerai\\env\\lib\\site-packages\\catboost\\core.py\u001b[0m in \u001b[0;36m__init__\u001b[1;34m(self, data, label, cat_features, text_features, embedding_features, column_description, pairs, delimiter, has_header, ignore_csv_quoting, weight, group_id, group_weight, subgroup_id, pairs_weight, baseline, feature_names, thread_count)\u001b[0m\n\u001b[0;32m    453\u001b[0m                     )\n\u001b[0;32m    454\u001b[0m \u001b[1;33m\u001b[0m\u001b[0m\n\u001b[1;32m--> 455\u001b[1;33m                 \u001b[0mself\u001b[0m\u001b[1;33m.\u001b[0m\u001b[0m_init\u001b[0m\u001b[1;33m(\u001b[0m\u001b[0mdata\u001b[0m\u001b[1;33m,\u001b[0m \u001b[0mlabel\u001b[0m\u001b[1;33m,\u001b[0m \u001b[0mcat_features\u001b[0m\u001b[1;33m,\u001b[0m \u001b[0mtext_features\u001b[0m\u001b[1;33m,\u001b[0m \u001b[0membedding_features\u001b[0m\u001b[1;33m,\u001b[0m \u001b[0mpairs\u001b[0m\u001b[1;33m,\u001b[0m \u001b[0mweight\u001b[0m\u001b[1;33m,\u001b[0m \u001b[0mgroup_id\u001b[0m\u001b[1;33m,\u001b[0m \u001b[0mgroup_weight\u001b[0m\u001b[1;33m,\u001b[0m \u001b[0msubgroup_id\u001b[0m\u001b[1;33m,\u001b[0m \u001b[0mpairs_weight\u001b[0m\u001b[1;33m,\u001b[0m \u001b[0mbaseline\u001b[0m\u001b[1;33m,\u001b[0m \u001b[0mfeature_names\u001b[0m\u001b[1;33m,\u001b[0m \u001b[0mthread_count\u001b[0m\u001b[1;33m)\u001b[0m\u001b[1;33m\u001b[0m\u001b[1;33m\u001b[0m\u001b[0m\n\u001b[0m\u001b[0;32m    456\u001b[0m         \u001b[0msuper\u001b[0m\u001b[1;33m(\u001b[0m\u001b[0mPool\u001b[0m\u001b[1;33m,\u001b[0m \u001b[0mself\u001b[0m\u001b[1;33m)\u001b[0m\u001b[1;33m.\u001b[0m\u001b[0m__init__\u001b[0m\u001b[1;33m(\u001b[0m\u001b[1;33m)\u001b[0m\u001b[1;33m\u001b[0m\u001b[1;33m\u001b[0m\u001b[0m\n\u001b[0;32m    457\u001b[0m \u001b[1;33m\u001b[0m\u001b[0m\n",
      "\u001b[1;32m~\\Desktop\\pokerai\\env\\lib\\site-packages\\catboost\\core.py\u001b[0m in \u001b[0;36m_init\u001b[1;34m(self, data, label, cat_features, text_features, embedding_features, pairs, weight, group_id, group_weight, subgroup_id, pairs_weight, baseline, feature_names, thread_count)\u001b[0m\n\u001b[0;32m    924\u001b[0m             \u001b[0mcat_features\u001b[0m \u001b[1;33m=\u001b[0m \u001b[0m_get_features_indices\u001b[0m\u001b[1;33m(\u001b[0m\u001b[0mcat_features\u001b[0m\u001b[1;33m,\u001b[0m \u001b[0mfeature_names\u001b[0m\u001b[1;33m)\u001b[0m\u001b[1;33m\u001b[0m\u001b[1;33m\u001b[0m\u001b[0m\n\u001b[0;32m    925\u001b[0m             \u001b[0mself\u001b[0m\u001b[1;33m.\u001b[0m\u001b[0m_check_string_feature_type\u001b[0m\u001b[1;33m(\u001b[0m\u001b[0mcat_features\u001b[0m\u001b[1;33m,\u001b[0m \u001b[1;34m'cat_features'\u001b[0m\u001b[1;33m)\u001b[0m\u001b[1;33m\u001b[0m\u001b[1;33m\u001b[0m\u001b[0m\n\u001b[1;32m--> 926\u001b[1;33m             \u001b[0mself\u001b[0m\u001b[1;33m.\u001b[0m\u001b[0m_check_string_feature_value\u001b[0m\u001b[1;33m(\u001b[0m\u001b[0mcat_features\u001b[0m\u001b[1;33m,\u001b[0m \u001b[0mfeatures_count\u001b[0m\u001b[1;33m,\u001b[0m \u001b[1;34m'cat_features'\u001b[0m\u001b[1;33m)\u001b[0m\u001b[1;33m\u001b[0m\u001b[1;33m\u001b[0m\u001b[0m\n\u001b[0m\u001b[0;32m    927\u001b[0m         \u001b[1;32mif\u001b[0m \u001b[0mtext_features\u001b[0m \u001b[1;32mis\u001b[0m \u001b[1;32mnot\u001b[0m \u001b[1;32mNone\u001b[0m\u001b[1;33m:\u001b[0m\u001b[1;33m\u001b[0m\u001b[1;33m\u001b[0m\u001b[0m\n\u001b[0;32m    928\u001b[0m             \u001b[0mtext_features\u001b[0m \u001b[1;33m=\u001b[0m \u001b[0m_get_features_indices\u001b[0m\u001b[1;33m(\u001b[0m\u001b[0mtext_features\u001b[0m\u001b[1;33m,\u001b[0m \u001b[0mfeature_names\u001b[0m\u001b[1;33m)\u001b[0m\u001b[1;33m\u001b[0m\u001b[1;33m\u001b[0m\u001b[0m\n",
      "\u001b[1;32m~\\Desktop\\pokerai\\env\\lib\\site-packages\\catboost\\core.py\u001b[0m in \u001b[0;36m_check_string_feature_value\u001b[1;34m(self, features, features_count, features_name)\u001b[0m\n\u001b[0;32m    495\u001b[0m                 \u001b[1;32mraise\u001b[0m \u001b[0mCatBoostError\u001b[0m\u001b[1;33m(\u001b[0m\u001b[1;34m\"Invalid {}[{}] = {} value type={}: must be int().\"\u001b[0m\u001b[1;33m.\u001b[0m\u001b[0mformat\u001b[0m\u001b[1;33m(\u001b[0m\u001b[0mfeatures_name\u001b[0m\u001b[1;33m,\u001b[0m \u001b[0mindx\u001b[0m\u001b[1;33m,\u001b[0m \u001b[0mfeature\u001b[0m\u001b[1;33m,\u001b[0m \u001b[0mtype\u001b[0m\u001b[1;33m(\u001b[0m\u001b[0mfeature\u001b[0m\u001b[1;33m)\u001b[0m\u001b[1;33m)\u001b[0m\u001b[1;33m)\u001b[0m\u001b[1;33m\u001b[0m\u001b[1;33m\u001b[0m\u001b[0m\n\u001b[0;32m    496\u001b[0m             \u001b[1;32mif\u001b[0m \u001b[0mfeature\u001b[0m \u001b[1;33m>=\u001b[0m \u001b[0mfeatures_count\u001b[0m\u001b[1;33m:\u001b[0m\u001b[1;33m\u001b[0m\u001b[1;33m\u001b[0m\u001b[0m\n\u001b[1;32m--> 497\u001b[1;33m                 \u001b[1;32mraise\u001b[0m \u001b[0mCatBoostError\u001b[0m\u001b[1;33m(\u001b[0m\u001b[1;34m\"Invalid {}[{}] = {} value: index must be < {}.\"\u001b[0m\u001b[1;33m.\u001b[0m\u001b[0mformat\u001b[0m\u001b[1;33m(\u001b[0m\u001b[0mfeatures_name\u001b[0m\u001b[1;33m,\u001b[0m \u001b[0mindx\u001b[0m\u001b[1;33m,\u001b[0m \u001b[0mfeature\u001b[0m\u001b[1;33m,\u001b[0m \u001b[0mfeatures_count\u001b[0m\u001b[1;33m)\u001b[0m\u001b[1;33m)\u001b[0m\u001b[1;33m\u001b[0m\u001b[1;33m\u001b[0m\u001b[0m\n\u001b[0m\u001b[0;32m    498\u001b[0m \u001b[1;33m\u001b[0m\u001b[0m\n\u001b[0;32m    499\u001b[0m     \u001b[1;32mdef\u001b[0m \u001b[0m_check_pairs_type\u001b[0m\u001b[1;33m(\u001b[0m\u001b[0mself\u001b[0m\u001b[1;33m,\u001b[0m \u001b[0mpairs\u001b[0m\u001b[1;33m)\u001b[0m\u001b[1;33m:\u001b[0m\u001b[1;33m\u001b[0m\u001b[1;33m\u001b[0m\u001b[0m\n",
      "\u001b[1;31mCatBoostError\u001b[0m: Invalid cat_features[46] = 102 value: index must be < 102."
     ]
    }
   ],
   "source": [
    "import time\n",
    "start = time.time()\n",
    "final_model, oof_pred_df, models = cv_catboost(new_X, Y, new_validation_df, categorical_indices, 'game_continue', 1)\n",
    "print(time.time() - start)"
   ]
  }
 ],
 "metadata": {
  "kernelspec": {
   "display_name": "Python (poker-env)",
   "language": "python",
   "name": "env"
  },
  "language_info": {
   "codemirror_mode": {
    "name": "ipython",
    "version": 3
   },
   "file_extension": ".py",
   "mimetype": "text/x-python",
   "name": "python",
   "nbconvert_exporter": "python",
   "pygments_lexer": "ipython3",
   "version": "3.7.4"
  }
 },
 "nbformat": 4,
 "nbformat_minor": 4
}
