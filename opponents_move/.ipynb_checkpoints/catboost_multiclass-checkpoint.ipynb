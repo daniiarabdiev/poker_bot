{
 "cells": [
  {
   "cell_type": "code",
   "execution_count": 65,
   "metadata": {},
   "outputs": [],
   "source": [
    "import pandas as pd\n",
    "from sklearn.model_selection import train_test_split\n",
    "from catboost import Pool\n",
    "import numpy as np"
   ]
  },
  {
   "cell_type": "code",
   "execution_count": 66,
   "metadata": {},
   "outputs": [],
   "source": [
    "raw_data_actions = pd.read_csv('users_hands_all_states_df.csv')"
   ]
  },
  {
   "cell_type": "code",
   "execution_count": 67,
   "metadata": {},
   "outputs": [],
   "source": [
    "def colummns_to_drop(df):\n",
    "    for col in df.columns:\n",
    "        if len(set(df[col])) == 1:\n",
    "            df.drop(col, axis=1, inplace=True)\n",
    "            #print(col)\n",
    "\n",
    "    columns_to_drop = ['hand_id', 'user_action_sum', 'user_result']\n",
    "    df.drop(columns_to_drop, axis=1, inplace=True)"
   ]
  },
  {
   "cell_type": "code",
   "execution_count": 68,
   "metadata": {},
   "outputs": [],
   "source": [
    "colummns_to_drop(raw_data_actions)"
   ]
  },
  {
   "cell_type": "code",
   "execution_count": 69,
   "metadata": {},
   "outputs": [],
   "source": [
    "raw_data_actions = raw_data_actions.loc[raw_data_actions['user_action_type'].isin(['raises', 'bets', 'folds', 'checks', 'calls'])].copy()"
   ]
  },
  {
   "cell_type": "code",
   "execution_count": 70,
   "metadata": {},
   "outputs": [
    {
     "data": {
      "text/plain": [
       "array(['raises', 'bets', 'folds', 'checks', 'calls'], dtype=object)"
      ]
     },
     "execution_count": 70,
     "metadata": {},
     "output_type": "execute_result"
    }
   ],
   "source": [
    "raw_data_actions['user_action_type'].unique()"
   ]
  },
  {
   "cell_type": "code",
   "execution_count": 71,
   "metadata": {},
   "outputs": [],
   "source": [
    "def label_func(x):\n",
    "    if x in ['raises', 'bets']:\n",
    "        x = 1\n",
    "    elif x == 'calls':\n",
    "        x = 0.75\n",
    "    elif x == 'checks':\n",
    "        x = 0.5\n",
    "    elif x == 'folds':\n",
    "        x = 0\n",
    "    return x\n",
    "raw_data_actions['target'] = raw_data_actions['user_action_type'].apply(label_func)"
   ]
  },
  {
   "cell_type": "code",
   "execution_count": 72,
   "metadata": {},
   "outputs": [],
   "source": [
    "raw_data_actions.drop('user_action_type', axis=1, inplace=True)"
   ]
  },
  {
   "cell_type": "code",
   "execution_count": 73,
   "metadata": {},
   "outputs": [
    {
     "data": {
      "text/plain": [
       "(15019, 166)"
      ]
     },
     "execution_count": 73,
     "metadata": {},
     "output_type": "execute_result"
    }
   ],
   "source": [
    "raw_data_actions.shape"
   ]
  },
  {
   "cell_type": "code",
   "execution_count": 74,
   "metadata": {},
   "outputs": [],
   "source": [
    "def impute_with_unknown(df):\n",
    "    for col in df.columns:\n",
    "        a = df[col].isna().sum()\n",
    "        if a > 0:\n",
    "            print(col, a)\n",
    "            df[col].fillna('unknown', inplace=True)"
   ]
  },
  {
   "cell_type": "code",
   "execution_count": 75,
   "metadata": {},
   "outputs": [
    {
     "name": "stdout",
     "output_type": "stream",
     "text": [
      "flop11 9697\n",
      "flop12 9697\n",
      "flop21 9697\n",
      "flop22 9697\n",
      "flop31 9697\n",
      "flop32 9697\n",
      "turn11 12491\n",
      "turn12 12491\n",
      "river11 14044\n",
      "river12 14044\n",
      "pre-flop_player_3_action_type_1 4\n",
      "pre-flop_player_4_action_type_1 12\n",
      "pre-flop_player_4_action_type_2 3\n",
      "flop_player_4_action_type_1 2\n",
      "turn_player_4_action_type_1 1\n"
     ]
    }
   ],
   "source": [
    "impute_with_unknown(raw_data_actions)"
   ]
  },
  {
   "cell_type": "code",
   "execution_count": 76,
   "metadata": {},
   "outputs": [],
   "source": [
    "number_of_missing = raw_data_actions.isna().sum()"
   ]
  },
  {
   "cell_type": "code",
   "execution_count": 77,
   "metadata": {},
   "outputs": [
    {
     "data": {
      "text/plain": [
       "0"
      ]
     },
     "execution_count": 77,
     "metadata": {},
     "output_type": "execute_result"
    }
   ],
   "source": [
    "number_of_missing.sum()"
   ]
  },
  {
   "cell_type": "code",
   "execution_count": 78,
   "metadata": {},
   "outputs": [],
   "source": [
    "def func(x):\n",
    "    if float(x) == 0.01:\n",
    "        return 'one'\n",
    "    elif float(x) == 0.02:\n",
    "        return 'two'\n",
    "    elif float(x) == 0.05:\n",
    "        return 'five'\n",
    "    elif float(x) == 0.25:\n",
    "        return 'twentyfive'\n",
    "    elif float(x) == 0.5:\n",
    "        return 'fivety'\n",
    "    elif float(x) == 1.0:\n",
    "        return 'hundred'\n",
    "    elif float(x) == 3.0:\n",
    "        return '3hundred'\n",
    "    elif float(x) == 0.1:\n",
    "        return 'zeroone'\n",
    "    elif float(x) == 2.0:\n",
    "        return 'twozero'\n",
    "    elif float(x) == 6.0:\n",
    "        return 'sixzero'"
   ]
  },
  {
   "cell_type": "code",
   "execution_count": 79,
   "metadata": {},
   "outputs": [],
   "source": [
    "raw_data_actions['type2'] = raw_data_actions['type2'].apply(func)\n",
    "raw_data_actions['type3'] = raw_data_actions['type3'].apply(func)"
   ]
  },
  {
   "cell_type": "code",
   "execution_count": 80,
   "metadata": {},
   "outputs": [
    {
     "data": {
      "text/plain": [
       "(15019, 166)"
      ]
     },
     "execution_count": 80,
     "metadata": {},
     "output_type": "execute_result"
    }
   ],
   "source": [
    "raw_data_actions.shape"
   ]
  },
  {
   "cell_type": "code",
   "execution_count": 102,
   "metadata": {},
   "outputs": [],
   "source": [
    "from sklearn.metrics import accuracy_score, classification_report, confusion_matrix, roc_auc_score\n",
    "from sklearn.model_selection import StratifiedKFold, KFold\n",
    "from catboost import CatBoostClassifier, sum_models\n",
    "\n",
    "\n",
    "def cv_catboost(X, Y, validation_df, cat_columns, target_column_name, number_of_runs):\n",
    "    # CROSS VALIDATION\n",
    "    cv = KFold(n_splits=5, shuffle=True, random_state=7)\n",
    "\n",
    "    # RUN\n",
    "    c = 0\n",
    "    oof_preds = np.zeros((len(X), 5))\n",
    "    models = []\n",
    "\n",
    "    for train, valid in cv.split(X, Y):\n",
    "        print(\"VAL fold %s\" % c)\n",
    "        X_train = X.iloc[train]\n",
    "        Y_train = Y.iloc[train]\n",
    "        X_valid = X.iloc[valid]\n",
    "        Y_valid = Y.iloc[valid]\n",
    "\n",
    "        model = CatBoostClassifier(iterations=1500, \n",
    "                                   verbose=200,\n",
    "                                   random_seed=43,\n",
    "                                   od_type='Iter',\n",
    "                                   od_wait=500,\n",
    "                                   loss_function='MultiClass'\n",
    "                                   )\n",
    "        \n",
    "        model.fit(X_train, Y_train,\n",
    "                eval_set=(X_valid, Y_valid), \n",
    "                use_best_model=True,\n",
    "                cat_features=cat_columns,\n",
    "                )\n",
    "        \n",
    "        \n",
    "        print(model.predict_proba(X_valid))\n",
    "        \n",
    "        oof_preds[valid, 0] = [r[0] for r in model.predict_proba(X_valid)]\n",
    "        oof_preds[valid, 1] = [r[1] for r in model.predict_proba(X_valid)]\n",
    "        oof_preds[valid, 2] = [r[2] for r in model.predict_proba(X_valid)]\n",
    "        oof_preds[valid, 3] = [r[3] for r in model.predict_proba(X_valid)]\n",
    "        oof_preds[valid, 4] = Y_valid\n",
    "        models.append(model)\n",
    "\n",
    "        accuracy = accuracy_score([int(i*100) for i in Y_valid.tolist()], [int(i*100) for i in model.predict(X_valid)])\n",
    "        print(f'Accuracy for fold {c} is {accuracy}')\n",
    "        \n",
    "        print(classification_report([int(i*100) for i in Y_valid.tolist()], [int(i*100) for i in model.predict(X_valid)]))\n",
    "        \n",
    "        c += 1\n",
    "        \n",
    "        if c == number_of_runs:\n",
    "            break\n",
    "        \n",
    "    final_model = sum_models(models, ctr_merge_policy='LeaveMostDiversifiedTable')\n",
    "\n",
    "    # SAVE OOF PREDS\n",
    "    oof_pred_df = pd.DataFrame(columns=['ID_code', 'target'])\n",
    "    oof_pred_df['ID_code'] = pd.Series(X.index.tolist())\n",
    "    oof_pred_df['target'] = pd.Series([r[0] for r in oof_preds])\n",
    "    oof_pred_df['real_target'] = pd.Series([r[1] for r in oof_preds])\n",
    "\n",
    "    return final_model, oof_pred_df, models"
   ]
  },
  {
   "cell_type": "code",
   "execution_count": 82,
   "metadata": {},
   "outputs": [],
   "source": [
    "raw_data_actions.sort_values(by=['user_id'], inplace=True)"
   ]
  },
  {
   "cell_type": "code",
   "execution_count": 83,
   "metadata": {},
   "outputs": [],
   "source": [
    "users = list(set(raw_data_actions['user_id']))\n",
    "users_train = users[:167]\n",
    "users_valid = users[167:]"
   ]
  },
  {
   "cell_type": "code",
   "execution_count": 84,
   "metadata": {},
   "outputs": [],
   "source": [
    "train_df = raw_data_actions.loc[raw_data_actions['user_id'].isin(users_train)]\n",
    "validation_df = raw_data_actions.loc[raw_data_actions['user_id'].isin(users_valid)]"
   ]
  },
  {
   "cell_type": "code",
   "execution_count": 85,
   "metadata": {},
   "outputs": [
    {
     "name": "stderr",
     "output_type": "stream",
     "text": [
      "C:\\Users\\Danii\\Desktop\\pokerai\\env\\lib\\site-packages\\pandas\\core\\frame.py:4174: SettingWithCopyWarning: \n",
      "A value is trying to be set on a copy of a slice from a DataFrame\n",
      "\n",
      "See the caveats in the documentation: https://pandas.pydata.org/pandas-docs/stable/user_guide/indexing.html#returning-a-view-versus-a-copy\n",
      "  errors=errors,\n"
     ]
    }
   ],
   "source": [
    "train_df.index = train_df['unique_id']\n",
    "validation_df.index = validation_df['unique_id']\n",
    "train_df.drop(['unique_id', 'user_id'], axis=1, inplace=True)\n",
    "validation_df.drop(['unique_id', 'user_id'], axis=1, inplace=True)"
   ]
  },
  {
   "cell_type": "code",
   "execution_count": 86,
   "metadata": {},
   "outputs": [],
   "source": [
    "X, Y = train_df.drop(['target'], axis=1), train_df['target']"
   ]
  },
  {
   "cell_type": "code",
   "execution_count": 87,
   "metadata": {},
   "outputs": [],
   "source": [
    "def get_cat_cols(X, other_method=False):\n",
    "    categorical_cols = []\n",
    "    for col in X.columns:\n",
    "        if other_method is False:\n",
    "            s = X[col].unique().shape[0]\n",
    "            if s < 38 and 'sum' not in col and 'money_had' not in col:\n",
    "                samp = set(X[col].sample(100))\n",
    "                #print(f'For column {col} the number of unique valriables is {s}, sample {samp}')\n",
    "                categorical_cols.append(col)\n",
    "        else:\n",
    "            if X[col].dtype == object:\n",
    "                categorical_cols.append(col)\n",
    "    return categorical_cols"
   ]
  },
  {
   "cell_type": "code",
   "execution_count": 88,
   "metadata": {},
   "outputs": [],
   "source": [
    "categorical_cols = get_cat_cols(X)"
   ]
  },
  {
   "cell_type": "code",
   "execution_count": 89,
   "metadata": {},
   "outputs": [],
   "source": [
    "categorical_indices = [X.columns.get_loc(col) for col in categorical_cols]"
   ]
  },
  {
   "cell_type": "code",
   "execution_count": 61,
   "metadata": {},
   "outputs": [
    {
     "name": "stdout",
     "output_type": "stream",
     "text": [
      "VAL fold 0\n",
      "Learning rate set to 0.097035\n",
      "0:\tlearn: 1.3273186\ttest: 1.3288941\tbest: 1.3288941 (0)\ttotal: 360ms\tremaining: 8m 59s\n",
      "200:\tlearn: 0.8059814\ttest: 0.8659053\tbest: 0.8659053 (200)\ttotal: 1m 56s\tremaining: 12m 34s\n",
      "400:\tlearn: 0.7271153\ttest: 0.8330444\tbest: 0.8330363 (399)\ttotal: 5m 4s\tremaining: 13m 53s\n",
      "600:\tlearn: 0.6677347\ttest: 0.8142273\tbest: 0.8141703 (599)\ttotal: 7m 36s\tremaining: 11m 22s\n",
      "800:\tlearn: 0.6208504\ttest: 0.8064176\tbest: 0.8064176 (800)\ttotal: 10m 18s\tremaining: 8m 59s\n",
      "1000:\tlearn: 0.5832920\ttest: 0.8005979\tbest: 0.8004926 (988)\ttotal: 12m 34s\tremaining: 6m 16s\n",
      "1200:\tlearn: 0.5479617\ttest: 0.7979607\tbest: 0.7976729 (1153)\ttotal: 14m 48s\tremaining: 3m 41s\n",
      "1400:\tlearn: 0.5130975\ttest: 0.7970093\tbest: 0.7966879 (1385)\ttotal: 17m 27s\tremaining: 1m 14s\n",
      "1499:\tlearn: 0.4977297\ttest: 0.7964613\tbest: 0.7962129 (1491)\ttotal: 18m 59s\tremaining: 0us\n",
      "\n",
      "bestTest = 0.7962128838\n",
      "bestIteration = 1491\n",
      "\n",
      "Shrink model to first 1492 iterations.\n",
      "[[3.99818055e-01 2.25801661e-04 5.22810822e-01 7.71453216e-02]\n",
      " [7.10792681e-01 1.48412575e-04 1.32308517e-02 2.75828054e-01]\n",
      " [2.86642268e-02 8.40218105e-01 1.20055016e-02 1.19112167e-01]\n",
      " ...\n",
      " [4.64850714e-01 8.91259377e-03 4.95812650e-01 3.04240418e-02]\n",
      " [8.03168284e-01 3.35547790e-04 2.55667548e-02 1.70929414e-01]\n",
      " [4.98863874e-01 5.26784499e-04 1.16886002e-01 3.83723339e-01]]\n",
      "Accuracy for fold 0 is 0.6465267727930536\n",
      "              precision    recall  f1-score   support\n",
      "\n",
      "           0       0.68      0.89      0.77      1291\n",
      "          50       0.66      0.81      0.72       431\n",
      "          75       0.52      0.34      0.41       445\n",
      "         100       0.54      0.24      0.34       597\n",
      "\n",
      "    accuracy                           0.65      2764\n",
      "   macro avg       0.60      0.57      0.56      2764\n",
      "weighted avg       0.62      0.65      0.61      2764\n",
      "\n",
      "1142.2424247264862\n"
     ]
    }
   ],
   "source": [
    "import time\n",
    "start = time.time()\n",
    "final_model, oof_pred_df, models = cv_catboost(X, Y, validation_df, categorical_indices, 'target', 1)\n",
    "print(time.time() - start)"
   ]
  },
  {
   "cell_type": "code",
   "execution_count": null,
   "metadata": {},
   "outputs": [],
   "source": []
  },
  {
   "cell_type": "code",
   "execution_count": 90,
   "metadata": {},
   "outputs": [],
   "source": [
    "manual_embeddings_df = pd.read_csv('manual_player_embeddings_no_data_leakege.csv')"
   ]
  },
  {
   "cell_type": "code",
   "execution_count": 94,
   "metadata": {},
   "outputs": [],
   "source": [
    "train_df_with_embeddings_df = train_df.merge(manual_embeddings_df, left_on=train_df.index, right_on='unique_id', how='inner')"
   ]
  },
  {
   "cell_type": "code",
   "execution_count": 95,
   "metadata": {},
   "outputs": [],
   "source": [
    "validation_df_with_embeddings_df = validation_df.merge(manual_embeddings_df, left_on=validation_df.index, right_on='unique_id', how='inner')"
   ]
  },
  {
   "cell_type": "code",
   "execution_count": null,
   "metadata": {},
   "outputs": [],
   "source": []
  },
  {
   "cell_type": "code",
   "execution_count": 98,
   "metadata": {},
   "outputs": [],
   "source": [
    "train_df_with_embeddings_df.drop(['unique_id', 'user_id'], axis=1, inplace=True)\n",
    "validation_df_with_embeddings_df.drop(['unique_id', 'user_id'], axis=1, inplace=True)"
   ]
  },
  {
   "cell_type": "code",
   "execution_count": 99,
   "metadata": {},
   "outputs": [],
   "source": [
    "X, Y = train_df_with_embeddings_df.drop(['target'], axis=1), train_df_with_embeddings_df['target']"
   ]
  },
  {
   "cell_type": "code",
   "execution_count": 100,
   "metadata": {},
   "outputs": [],
   "source": [
    "categorical_cols = get_cat_cols(X, True)\n",
    "categorical_indices = [X.columns.get_loc(col) for col in categorical_cols]"
   ]
  },
  {
   "cell_type": "code",
   "execution_count": 103,
   "metadata": {},
   "outputs": [
    {
     "name": "stdout",
     "output_type": "stream",
     "text": [
      "VAL fold 0\n",
      "Learning rate set to 0.074462\n",
      "0:\tlearn: 1.3378291\ttest: 1.3369499\tbest: 1.3369499 (0)\ttotal: 536ms\tremaining: 26m 46s\n",
      "200:\tlearn: 0.8136117\ttest: 0.8671182\tbest: 0.8671182 (200)\ttotal: 3m 37s\tremaining: 50m 29s\n",
      "400:\tlearn: 0.7298008\ttest: 0.8305068\tbest: 0.8305068 (400)\ttotal: 6m 53s\tremaining: 44m 39s\n",
      "600:\tlearn: 0.6774187\ttest: 0.8179279\tbest: 0.8179279 (600)\ttotal: 10m 5s\tremaining: 40m 17s\n",
      "800:\tlearn: 0.6336743\ttest: 0.8088532\tbest: 0.8088320 (798)\ttotal: 13m 50s\tremaining: 38m\n",
      "1000:\tlearn: 0.5965985\ttest: 0.8043433\tbest: 0.8040587 (995)\ttotal: 17m 42s\tremaining: 35m 22s\n",
      "1200:\tlearn: 0.5658582\ttest: 0.8006693\tbest: 0.8005422 (1193)\ttotal: 21m 38s\tremaining: 32m 24s\n",
      "1400:\tlearn: 0.5367390\ttest: 0.7988317\tbest: 0.7988317 (1400)\ttotal: 25m 54s\tremaining: 29m 34s\n",
      "1600:\tlearn: 0.5110998\ttest: 0.7969978\tbest: 0.7969074 (1598)\ttotal: 30m 17s\tremaining: 26m 27s\n",
      "1800:\tlearn: 0.4862127\ttest: 0.7961990\tbest: 0.7961990 (1800)\ttotal: 34m 53s\tremaining: 23m 13s\n",
      "2000:\tlearn: 0.4649230\ttest: 0.7972883\tbest: 0.7957997 (1853)\ttotal: 39m 29s\tremaining: 19m 42s\n",
      "2200:\tlearn: 0.4454637\ttest: 0.7977674\tbest: 0.7957997 (1853)\ttotal: 44m 3s\tremaining: 15m 59s\n",
      "Stopped by overfitting detector  (500 iterations wait)\n",
      "\n",
      "bestTest = 0.7957996528\n",
      "bestIteration = 1853\n",
      "\n",
      "Shrink model to first 1854 iterations.\n",
      "[[4.58451662e-01 2.15803293e-04 4.83617469e-01 5.77150659e-02]\n",
      " [8.38064501e-01 4.71219010e-05 2.40402362e-02 1.37848141e-01]\n",
      " [5.92177015e-01 1.62363052e-02 6.36563907e-02 3.27930289e-01]\n",
      " ...\n",
      " [8.90895202e-01 4.67126744e-05 1.09016444e-02 9.81564408e-02]\n",
      " [8.02246723e-01 1.88980458e-02 7.39087253e-02 1.04946506e-01]\n",
      " [6.46174767e-01 3.56363884e-04 2.06268696e-01 1.47200173e-01]]\n",
      "Accuracy for fold 0 is 0.6414616497829233\n",
      "              precision    recall  f1-score   support\n",
      "\n",
      "           0       0.69      0.86      0.77      1323\n",
      "          50       0.66      0.76      0.71       419\n",
      "          75       0.52      0.40      0.45       414\n",
      "         100       0.47      0.25      0.32       608\n",
      "\n",
      "    accuracy                           0.64      2764\n",
      "   macro avg       0.59      0.57      0.56      2764\n",
      "weighted avg       0.61      0.64      0.61      2764\n",
      "\n",
      "2857.144163131714\n"
     ]
    }
   ],
   "source": [
    "start = time.time()\n",
    "final_model, oof_pred_df, models = cv_catboost(X, Y, validation_df_with_embeddings_df, categorical_indices, 'target', 1)\n",
    "print(time.time() - start)"
   ]
  },
  {
   "cell_type": "code",
   "execution_count": 113,
   "metadata": {},
   "outputs": [],
   "source": [
    "important_features_df = models[0].get_feature_importance(Pool(validation_df_with_embeddings_df.drop('target', axis=1), validation_df_with_embeddings_df['target'], categorical_indices), prettified=True)"
   ]
  },
  {
   "cell_type": "code",
   "execution_count": 116,
   "metadata": {},
   "outputs": [
    {
     "data": {
      "text/html": [
       "<div>\n",
       "<style scoped>\n",
       "    .dataframe tbody tr th:only-of-type {\n",
       "        vertical-align: middle;\n",
       "    }\n",
       "\n",
       "    .dataframe tbody tr th {\n",
       "        vertical-align: top;\n",
       "    }\n",
       "\n",
       "    .dataframe thead th {\n",
       "        text-align: right;\n",
       "    }\n",
       "</style>\n",
       "<table border=\"1\" class=\"dataframe\">\n",
       "  <thead>\n",
       "    <tr style=\"text-align: right;\">\n",
       "      <th></th>\n",
       "      <th>Feature Id</th>\n",
       "      <th>Importances</th>\n",
       "    </tr>\n",
       "  </thead>\n",
       "  <tbody>\n",
       "    <tr>\n",
       "      <th>0</th>\n",
       "      <td>stage</td>\n",
       "      <td>12.504272</td>\n",
       "    </tr>\n",
       "    <tr>\n",
       "      <th>1</th>\n",
       "      <td>bank_before</td>\n",
       "      <td>6.481073</td>\n",
       "    </tr>\n",
       "    <tr>\n",
       "      <th>2</th>\n",
       "      <td>user_step_num</td>\n",
       "      <td>4.802975</td>\n",
       "    </tr>\n",
       "    <tr>\n",
       "      <th>3</th>\n",
       "      <td>turn12</td>\n",
       "      <td>2.950595</td>\n",
       "    </tr>\n",
       "    <tr>\n",
       "      <th>4</th>\n",
       "      <td>pre-flop_player_3_action_type_1</td>\n",
       "      <td>2.523839</td>\n",
       "    </tr>\n",
       "    <tr>\n",
       "      <th>...</th>\n",
       "      <td>...</td>\n",
       "      <td>...</td>\n",
       "    </tr>\n",
       "    <tr>\n",
       "      <th>2483</th>\n",
       "      <td>24_river_checks_user_action_sum_std</td>\n",
       "      <td>0.000000</td>\n",
       "    </tr>\n",
       "    <tr>\n",
       "      <th>2484</th>\n",
       "      <td>24_river_calls_user_action_sum_count</td>\n",
       "      <td>0.000000</td>\n",
       "    </tr>\n",
       "    <tr>\n",
       "      <th>2485</th>\n",
       "      <td>24_river_calls_user_action_sum_mean</td>\n",
       "      <td>0.000000</td>\n",
       "    </tr>\n",
       "    <tr>\n",
       "      <th>2486</th>\n",
       "      <td>24_river_calls_user_action_sum_sum</td>\n",
       "      <td>0.000000</td>\n",
       "    </tr>\n",
       "    <tr>\n",
       "      <th>2487</th>\n",
       "      <td>24_river_calls_user_action_sum_std</td>\n",
       "      <td>0.000000</td>\n",
       "    </tr>\n",
       "  </tbody>\n",
       "</table>\n",
       "<p>2488 rows × 2 columns</p>\n",
       "</div>"
      ],
      "text/plain": [
       "                                Feature Id  Importances\n",
       "0                                    stage    12.504272\n",
       "1                              bank_before     6.481073\n",
       "2                            user_step_num     4.802975\n",
       "3                                   turn12     2.950595\n",
       "4          pre-flop_player_3_action_type_1     2.523839\n",
       "...                                    ...          ...\n",
       "2483   24_river_checks_user_action_sum_std     0.000000\n",
       "2484  24_river_calls_user_action_sum_count     0.000000\n",
       "2485   24_river_calls_user_action_sum_mean     0.000000\n",
       "2486    24_river_calls_user_action_sum_sum     0.000000\n",
       "2487    24_river_calls_user_action_sum_std     0.000000\n",
       "\n",
       "[2488 rows x 2 columns]"
      ]
     },
     "execution_count": 116,
     "metadata": {},
     "output_type": "execute_result"
    }
   ],
   "source": [
    "important_features_df"
   ]
  },
  {
   "cell_type": "code",
   "execution_count": 121,
   "metadata": {},
   "outputs": [],
   "source": [
    "important_features_df = important_features_df[important_features_df['Importances']>0.01].copy()"
   ]
  },
  {
   "cell_type": "code",
   "execution_count": 122,
   "metadata": {},
   "outputs": [
    {
     "data": {
      "text/html": [
       "<div>\n",
       "<style scoped>\n",
       "    .dataframe tbody tr th:only-of-type {\n",
       "        vertical-align: middle;\n",
       "    }\n",
       "\n",
       "    .dataframe tbody tr th {\n",
       "        vertical-align: top;\n",
       "    }\n",
       "\n",
       "    .dataframe thead th {\n",
       "        text-align: right;\n",
       "    }\n",
       "</style>\n",
       "<table border=\"1\" class=\"dataframe\">\n",
       "  <thead>\n",
       "    <tr style=\"text-align: right;\">\n",
       "      <th></th>\n",
       "      <th>Feature Id</th>\n",
       "      <th>Importances</th>\n",
       "    </tr>\n",
       "  </thead>\n",
       "  <tbody>\n",
       "    <tr>\n",
       "      <th>0</th>\n",
       "      <td>stage</td>\n",
       "      <td>12.504272</td>\n",
       "    </tr>\n",
       "    <tr>\n",
       "      <th>1</th>\n",
       "      <td>bank_before</td>\n",
       "      <td>6.481073</td>\n",
       "    </tr>\n",
       "    <tr>\n",
       "      <th>2</th>\n",
       "      <td>user_step_num</td>\n",
       "      <td>4.802975</td>\n",
       "    </tr>\n",
       "    <tr>\n",
       "      <th>3</th>\n",
       "      <td>turn12</td>\n",
       "      <td>2.950595</td>\n",
       "    </tr>\n",
       "    <tr>\n",
       "      <th>4</th>\n",
       "      <td>pre-flop_player_3_action_type_1</td>\n",
       "      <td>2.523839</td>\n",
       "    </tr>\n",
       "    <tr>\n",
       "      <th>...</th>\n",
       "      <td>...</td>\n",
       "      <td>...</td>\n",
       "    </tr>\n",
       "    <tr>\n",
       "      <th>483</th>\n",
       "      <td>turn_calls_div_action_sum_money_have_sum</td>\n",
       "      <td>0.010361</td>\n",
       "    </tr>\n",
       "    <tr>\n",
       "      <th>484</th>\n",
       "      <td>6_pre-flop_checks_user_action_sum_count</td>\n",
       "      <td>0.010319</td>\n",
       "    </tr>\n",
       "    <tr>\n",
       "      <th>485</th>\n",
       "      <td>12_river_bets_user_action_sum_count</td>\n",
       "      <td>0.010130</td>\n",
       "    </tr>\n",
       "    <tr>\n",
       "      <th>486</th>\n",
       "      <td>12_turn_calls_user_action_sum_count</td>\n",
       "      <td>0.010130</td>\n",
       "    </tr>\n",
       "    <tr>\n",
       "      <th>487</th>\n",
       "      <td>river_calls_user_action_sum_std</td>\n",
       "      <td>0.010108</td>\n",
       "    </tr>\n",
       "  </tbody>\n",
       "</table>\n",
       "<p>488 rows × 2 columns</p>\n",
       "</div>"
      ],
      "text/plain": [
       "                                   Feature Id  Importances\n",
       "0                                       stage    12.504272\n",
       "1                                 bank_before     6.481073\n",
       "2                               user_step_num     4.802975\n",
       "3                                      turn12     2.950595\n",
       "4             pre-flop_player_3_action_type_1     2.523839\n",
       "..                                        ...          ...\n",
       "483  turn_calls_div_action_sum_money_have_sum     0.010361\n",
       "484   6_pre-flop_checks_user_action_sum_count     0.010319\n",
       "485       12_river_bets_user_action_sum_count     0.010130\n",
       "486       12_turn_calls_user_action_sum_count     0.010130\n",
       "487           river_calls_user_action_sum_std     0.010108\n",
       "\n",
       "[488 rows x 2 columns]"
      ]
     },
     "execution_count": 122,
     "metadata": {},
     "output_type": "execute_result"
    }
   ],
   "source": [
    "important_features_df"
   ]
  },
  {
   "cell_type": "code",
   "execution_count": 124,
   "metadata": {},
   "outputs": [],
   "source": [
    "useful_features = important_features_df['Feature Id'].tolist()"
   ]
  },
  {
   "cell_type": "code",
   "execution_count": 125,
   "metadata": {},
   "outputs": [],
   "source": [
    "new_X = X[useful_features].copy()\n",
    "new_validation_df = validation_df_with_embeddings_df[useful_features + ['target']].copy()\n",
    "categorical_cols = get_cat_cols(new_X, True)\n",
    "categorical_indices = [new_X.columns.get_loc(col) for col in categorical_cols]"
   ]
  },
  {
   "cell_type": "code",
   "execution_count": 126,
   "metadata": {},
   "outputs": [
    {
     "name": "stdout",
     "output_type": "stream",
     "text": [
      "VAL fold 0\n",
      "Learning rate set to 0.074462\n",
      "0:\tlearn: 1.3381361\ttest: 1.3362325\tbest: 1.3362325 (0)\ttotal: 657ms\tremaining: 32m 50s\n",
      "200:\tlearn: 0.8119027\ttest: 0.8689470\tbest: 0.8689470 (200)\ttotal: 2m 36s\tremaining: 36m 18s\n",
      "400:\tlearn: 0.7238180\ttest: 0.8328667\tbest: 0.8328667 (400)\ttotal: 5m 5s\tremaining: 33m 2s\n",
      "600:\tlearn: 0.6691093\ttest: 0.8153767\tbest: 0.8153767 (600)\ttotal: 7m 40s\tremaining: 30m 39s\n",
      "800:\tlearn: 0.6227599\ttest: 0.8064909\tbest: 0.8064909 (800)\ttotal: 10m 11s\tremaining: 27m 58s\n",
      "1000:\tlearn: 0.5863778\ttest: 0.8014357\tbest: 0.8010967 (979)\ttotal: 12m 51s\tremaining: 25m 40s\n",
      "1200:\tlearn: 0.5515581\ttest: 0.7969478\tbest: 0.7969478 (1200)\ttotal: 15m 37s\tremaining: 23m 24s\n",
      "1400:\tlearn: 0.5237036\ttest: 0.7954406\tbest: 0.7954386 (1399)\ttotal: 18m 36s\tremaining: 21m 14s\n",
      "1600:\tlearn: 0.4958653\ttest: 0.7935531\tbest: 0.7933106 (1574)\ttotal: 21m 29s\tremaining: 18m 46s\n",
      "1800:\tlearn: 0.4727337\ttest: 0.7932602\tbest: 0.7929081 (1774)\ttotal: 24m 38s\tremaining: 16m 24s\n",
      "2000:\tlearn: 0.4499236\ttest: 0.7934493\tbest: 0.7929081 (1774)\ttotal: 27m 21s\tremaining: 13m 39s\n",
      "2200:\tlearn: 0.4296136\ttest: 0.7933545\tbest: 0.7929081 (1774)\ttotal: 30m 11s\tremaining: 10m 57s\n",
      "Stopped by overfitting detector  (500 iterations wait)\n",
      "\n",
      "bestTest = 0.7929081065\n",
      "bestIteration = 1774\n",
      "\n",
      "Shrink model to first 1775 iterations.\n",
      "[[4.91719790e-01 1.06581475e-04 4.46316781e-01 6.18568478e-02]\n",
      " [8.87314917e-01 3.85942841e-05 1.96993494e-02 9.29471390e-02]\n",
      " [5.74887091e-01 2.48664613e-02 7.05602456e-02 3.29686202e-01]\n",
      " ...\n",
      " [8.96740887e-01 2.69516743e-05 1.21965242e-02 9.10356375e-02]\n",
      " [7.80815638e-01 2.18160014e-02 8.98936529e-02 1.07474708e-01]\n",
      " [5.89477012e-01 1.79859381e-04 2.44435259e-01 1.65907870e-01]]\n",
      "Accuracy for fold 0 is 0.64616497829233\n",
      "              precision    recall  f1-score   support\n",
      "\n",
      "           0       0.69      0.87      0.77      1323\n",
      "          50       0.66      0.76      0.71       419\n",
      "          75       0.54      0.38      0.45       414\n",
      "         100       0.49      0.26      0.34       608\n",
      "\n",
      "    accuracy                           0.65      2764\n",
      "   macro avg       0.59      0.57      0.57      2764\n",
      "weighted avg       0.62      0.65      0.62      2764\n",
      "\n",
      "1884.0450530052185\n"
     ]
    }
   ],
   "source": [
    "start = time.time()\n",
    "final_model, oof_pred_df, models = cv_catboost(new_X, Y, new_validation_df, categorical_indices, 'target', 1)\n",
    "print(time.time() - start)"
   ]
  },
  {
   "cell_type": "code",
   "execution_count": 127,
   "metadata": {},
   "outputs": [],
   "source": [
    "important_features_df.to_csv('important_features.csv', index=False)"
   ]
  },
  {
   "cell_type": "code",
   "execution_count": null,
   "metadata": {},
   "outputs": [],
   "source": []
  }
 ],
 "metadata": {
  "kernelspec": {
   "display_name": "Python (poker-env)",
   "language": "python",
   "name": "env"
  },
  "language_info": {
   "codemirror_mode": {
    "name": "ipython",
    "version": 3
   },
   "file_extension": ".py",
   "mimetype": "text/x-python",
   "name": "python",
   "nbconvert_exporter": "python",
   "pygments_lexer": "ipython3",
   "version": "3.7.4"
  }
 },
 "nbformat": 4,
 "nbformat_minor": 4
}
